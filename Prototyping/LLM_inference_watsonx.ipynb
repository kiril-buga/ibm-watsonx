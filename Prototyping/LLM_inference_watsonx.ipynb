{
 "cells": [
  {
   "metadata": {},
   "cell_type": "code",
   "outputs": [],
   "execution_count": null,
   "source": [
    "#try to identify product name from front page using llm\n",
    "from ibm_watsonx_ai.foundation_models import ModelInference\n",
    "from ibm_watsonx_ai import Credentials\n",
    "\n",
    "creds = Credentials(\n",
    "    url=\"https://eu-de.ml.cloud.ibm.com\",\n",
    "    api_key=\"YgK-ik0a_-zHtOyMj-iy8LW-i1aB5XOxMOgdndNv3j9B\"\n",
    ")\n",
    "\n",
    "\n",
    "def extract_product_name(text, creds):\n",
    "    prompt = f\"\"\"\n",
    "    You are an assistant that extracts metadata from insurance documents.\n",
    "\n",
    "    The following text is the first page of an insurance policy document.\n",
    "    Your task is to identify the insurance product name mentioned in it and to identify the year of the version\n",
    "\n",
    "    Return ONLY the product name as well as the year, no explanations.\n",
    "    Respond only with a JSON object in the format:\n",
    "    {{\"product_name\": \"...\", \"year\": \"...\"}}\n",
    "\n",
    "    Text:\n",
    "    \\\"\\\"\\\"\n",
    "    {text}\n",
    "    \\\"\\\"\\\"\n",
    "    \"\"\"\n",
    "\n",
    "    model = ModelInference(\n",
    "        model_id=\"ibm/granite-3-8b-instruct\",\n",
    "        credentials=creds,\n",
    "        project_id=\"bf4840a1-a94d-47dc-824b-cdf9f215997e\",\n",
    "        params={\n",
    "            \"decoding_method\": \"greedy\",\n",
    "            \"max_new_tokens\": 100\n",
    "        }\n",
    "    )\n",
    "\n",
    "    response = model.generate(prompt=prompt)\n",
    "    return response[\"results\"][0][\"generated_text\"].strip()"
   ],
   "id": "236f8c335d71cf8f"
  }
 ],
 "metadata": {
  "kernelspec": {
   "display_name": "Python 3",
   "language": "python",
   "name": "python3"
  },
  "language_info": {
   "codemirror_mode": {
    "name": "ipython",
    "version": 2
   },
   "file_extension": ".py",
   "mimetype": "text/x-python",
   "name": "python",
   "nbconvert_exporter": "python",
   "pygments_lexer": "ipython2",
   "version": "2.7.6"
  }
 },
 "nbformat": 4,
 "nbformat_minor": 5
}
