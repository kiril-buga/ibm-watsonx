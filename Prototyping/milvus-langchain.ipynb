{
 "cells": [
  {
   "metadata": {},
   "cell_type": "code",
   "outputs": [],
   "execution_count": null,
   "source": [
    "from dotenv import load_dotenv\n",
    "from langchain_huggingface import HuggingFaceEmbeddings\n",
    "\n",
    "load_dotenv()\n",
    "\n",
    "embeddings = HuggingFaceEmbeddings(model_name=\"intfloat/multilingual-e5-large\")"
   ],
   "id": "ebb2a19528682ae0"
  },
  {
   "metadata": {},
   "cell_type": "code",
   "outputs": [],
   "execution_count": null,
   "source": [
    "import os\n",
    "from langchain_milvus import Milvus\n",
    "\n",
    "# sparse_embeddings = FastEmbedSparse(model_name=\"Qdrant/bm25\")\n",
    "\n",
    "doc_store = Milvus(\n",
    "    embedding_function=embeddings,\n",
    "    collection_name=\"docling_helvetia\",\n",
    "    connection_args={\n",
    "        \"uri\": f\"http://{os.getenv('MILVUS_HOST')}:{os.getenv('MILVUS_PORT')}\",\n",
    "        \"host\": os.environ[\"MILVUS_HOST\"],\n",
    "        \"port\": os.environ[\"MILVUS_PORT\"],  # str or int both accepted\n",
    "        \"user\": \"ibmlhapikey\",\n",
    "        \"password\": os.environ[\"MILVUS_PASSWORD\"],  # ← your API key\n",
    "        \"secure\": True,\n",
    "        \"db_name\": \"default\",\n",
    "    },\n",
    "    # index_params={\"index_type\": \"IVF_FLAT\", \"metric_type\": \"COSINE\", \"params\": {\"nlist\": 1024}},\n",
    "    consistency_level=\"Strong\",\n",
    "    # drop_old=False,  # set to True if seeking to drop the collection with that name if it exists\n",
    ")"
   ],
   "id": "204260e10a368627"
  },
  {
   "metadata": {},
   "cell_type": "code",
   "outputs": [],
   "execution_count": null,
   "source": "doc_store.similarity_search(\"Altersrente?\")",
   "id": "41658de75ab02cd6"
  },
  {
   "metadata": {},
   "cell_type": "code",
   "outputs": [],
   "execution_count": null,
   "source": "",
   "id": "e03674d0fc3b16f3"
  }
 ],
 "metadata": {},
 "nbformat": 4,
 "nbformat_minor": 5
}
