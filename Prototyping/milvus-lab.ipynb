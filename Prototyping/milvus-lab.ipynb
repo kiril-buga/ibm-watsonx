{
 "cells": [
  {
   "cell_type": "markdown",
   "metadata": {},
   "source": [
    "# Notebook: Connect and Write to Milvus DB in watsonx.data\n",
    "\n",
    "This notebook demonstrates how to interact with an existing Milvus database within the watsonx.data\n",
    "\n",
    "**Key Steps:**\n",
    "\n",
    "- Fetching Wikipedia articles from the Wikipedia API\n",
    "- Embedding text using the Multilingual-E5-Large model\n",
    "- Writing text with embeddings to Milvus\n",
    "\n",
    "**Extending the Notebook:**\n",
    "\n",
    "This notebook serves as a starting point for building a custom data ingestion pipeline. You can enhance it by:\n",
    "\n",
    "- Scraping a website of your choice\n",
    "- Using alternative embedding models available in WatsonX\n",
    "\n",
    "**Important Note:**\n",
    "\n",
    "When using different embedding models, ensure that they are available in WatsonX."
   ]
  },
  {
   "cell_type": "markdown",
   "metadata": {},
   "source": [
    "## Imports"
   ]
  },
  {
   "cell_type": "code",
   "metadata": {
    "ExecuteTime": {
     "end_time": "2025-04-29T19:04:29.016182Z",
     "start_time": "2025-04-29T19:04:16.856442Z"
    }
   },
   "source": [
    "from pymilvus import connections, DataType, Collection, FieldSchema, CollectionSchema, utility, db\n",
    "from llama_index.core import StorageContext\n",
    "import pandas as pd\n",
    "import numpy as np\n",
    "from langchain.text_splitter import RecursiveCharacterTextSplitter\n",
    "from sentence_transformers import SentenceTransformer\n",
    "import warnings\n",
    "warnings.filterwarnings(\"ignore\")\n",
    "import dotenv\n",
    "from dotenv import load_dotenv\n",
    "import wikipedia\n",
    "import requests\n",
    "import re\n",
    "load_dotenv()"
   ],
   "outputs": [
    {
     "name": "stderr",
     "output_type": "stream",
     "text": [
      "C:\\Users\\Kiril\\PycharmProjects\\ibm-watsonx\\venv\\Lib\\site-packages\\tqdm\\auto.py:21: TqdmWarning: IProgress not found. Please update jupyter and ipywidgets. See https://ipywidgets.readthedocs.io/en/stable/user_install.html\n",
      "  from .autonotebook import tqdm as notebook_tqdm\n"
     ]
    },
    {
     "data": {
      "text/plain": [
       "True"
      ]
     },
     "execution_count": 1,
     "metadata": {},
     "output_type": "execute_result"
    }
   ],
   "execution_count": 1
  },
  {
   "cell_type": "markdown",
   "metadata": {},
   "source": [
    "# Credentials \n",
    "Define the paratmers in a .env\n",
    "\n",
    "For the Lab, the credentials might be provided for you.\n",
    "\n",
    "- **ProjectID and Access Token**: From a watsonx.ai project. You **often** need them but **not** for this notebook.\n",
    "- **API-Key**: IBM Cloud/ IAM Access Management\n",
    "- **Miluvs-Password**: API Key\n",
    "- **Milvus-Host**: From watsonx.data/infrastructure/miluvs-instance"
   ]
  },
  {
   "cell_type": "code",
   "metadata": {
    "ExecuteTime": {
     "end_time": "2025-04-29T19:04:29.623137Z",
     "start_time": "2025-04-29T19:04:29.617247Z"
    }
   },
   "source": [
    "import os\n",
    "host = os.getenv(\"MILVUS_HOST\", None)\n",
    "port = os.getenv(\"MILVUS_PORT\", None)\n",
    "password = os.getenv(\"MILVUS_PASSWORD\", None)\n",
    "user = os.getenv(\"MILVUS_USER\", None)\n",
    "print(f\"Host: {host}, Port: {port}, Password: {password}, User: {user}\")"
   ],
   "outputs": [
    {
     "name": "stdout",
     "output_type": "stream",
     "text": [
      "Host: 102092af-5474-4a42-8dc2-35bb05ffdd0e.cvgfjtof0l91rq0joaj0.lakehouse.appdomain.cloud, Port: 31574, Password: oLDjQJic9EgszqIbNKUCR4_pxvr1L-DGKlpxkQ7p7zJK, User: ibmlhapikey\n"
     ]
    }
   ],
   "execution_count": 2
  },
  {
   "cell_type": "markdown",
   "metadata": {},
   "source": [
    "# Connect to Milvus"
   ]
  },
  {
   "cell_type": "code",
   "metadata": {
    "ExecuteTime": {
     "end_time": "2025-04-29T19:04:31.075482Z",
     "start_time": "2025-04-29T19:04:29.649436Z"
    }
   },
   "source": [
    "connections.connect(user=user, password=password, host=host, port=port, secure=True)\n",
    "# test connection\n",
    "print(connections.list_connections())\n",
    "print(connections.get_connection_addr(alias=\"default\"))\n",
    "print(db.list_database())"
   ],
   "outputs": [
    {
     "name": "stdout",
     "output_type": "stream",
     "text": [
      "[('default', <pymilvus.client.grpc_handler.GrpcHandler object at 0x00000221BE001CA0>)]\n",
      "{'secure': True, 'address': '102092af-5474-4a42-8dc2-35bb05ffdd0e.cvgfjtof0l91rq0joaj0.lakehouse.appdomain.cloud:31574', 'user': 'ibmlhapikey'}\n",
      "['default', 'group_01', 'group_02', 'group_03']\n"
     ]
    }
   ],
   "execution_count": 3
  },
  {
   "cell_type": "markdown",
   "metadata": {},
   "source": [
    "## To Disconnect"
   ]
  },
  {
   "cell_type": "code",
   "metadata": {
    "ExecuteTime": {
     "end_time": "2025-04-29T19:04:31.093423Z",
     "start_time": "2025-04-29T19:04:31.089007Z"
    }
   },
   "source": [
    "# connections.disconnect(\"default\")\n",
    "print(connections.list_connections())"
   ],
   "outputs": [
    {
     "name": "stdout",
     "output_type": "stream",
     "text": [
      "[('default', <pymilvus.client.grpc_handler.GrpcHandler object at 0x00000221BE001CA0>)]\n"
     ]
    }
   ],
   "execution_count": 4
  },
  {
   "cell_type": "markdown",
   "metadata": {},
   "source": [
    "## To Delete Collection"
   ]
  },
  {
   "cell_type": "code",
   "metadata": {
    "ExecuteTime": {
     "end_time": "2025-04-29T19:39:28.961179Z",
     "start_time": "2025-04-29T19:39:28.924806Z"
    }
   },
   "source": "#utility.drop_collection('docling_helvetia')",
   "outputs": [],
   "execution_count": 29
  },
  {
   "cell_type": "markdown",
   "metadata": {},
   "source": [
    "---\n",
    "# Set Collection Name and Get Wiki Data"
   ]
  },
  {
   "cell_type": "markdown",
   "metadata": {},
   "source": [
    "Lets check all the existing collections in the default database"
   ]
  },
  {
   "cell_type": "code",
   "metadata": {
    "ExecuteTime": {
     "end_time": "2025-04-29T19:39:34.313575Z",
     "start_time": "2025-04-29T19:39:34.284748Z"
    }
   },
   "source": [
    "collections = utility.list_collections()\n",
    "for collection in collections:\n",
    "    # Initialize the Collection object\n",
    "    collection = Collection(collection)\n",
    "    # Print collection name\n",
    "    print(f\"Collection: {collection.name}\\n\")\n",
    "    # Print collection schema\n",
    "    print(f\"Schema: {collection.schema}\\n\")"
   ],
   "outputs": [],
   "execution_count": 30
  },
  {
   "cell_type": "markdown",
   "metadata": {},
   "source": [
    "Name the collection and define the wiki-article you want to fetch."
   ]
  },
  {
   "cell_type": "code",
   "metadata": {
    "ExecuteTime": {
     "end_time": "2025-04-29T19:04:46.967322Z",
     "start_time": "2025-04-29T19:04:46.963310Z"
    }
   },
   "source": [
    "# Set collection name\n",
    "COLLECTION_NAME = \"docling_helvetia\"  #name\n",
    "# Set wiki article name\n",
    "# wiki_title = 'wiki-page-title' # 'wiki-page-title'"
   ],
   "outputs": [],
   "execution_count": 7
  },
  {
   "cell_type": "markdown",
   "metadata": {},
   "source": [
    "- Some patterns are removed from the article\n",
    "- You can use the print statements to see how the article looks\n"
   ]
  },
  {
   "metadata": {
    "ExecuteTime": {
     "end_time": "2025-04-29T19:04:49.545238Z",
     "start_time": "2025-04-29T19:04:47.921578Z"
    }
   },
   "cell_type": "code",
   "source": [
    "# Demonstration of combining Google Cloud Storage and Qdrant\n",
    "from docling_core.transforms.chunker.hybrid_chunker import HybridChunker\n",
    "from docling.datamodel.base_models import InputFormat\n",
    "from docling.datamodel.pipeline_options import PdfPipelineOptions, TableFormerMode, AcceleratorOptions, \\\n",
    "    AcceleratorDevice, TesseractCliOcrOptions\n",
    "from docling.document_converter import DocumentConverter\n",
    "from docling.document_converter import PdfFormatOption\n",
    "from docling_core.transforms.chunker import HierarchicalChunker\n",
    "from docling.datamodel.settings import settings\n",
    "from dotenv import load_dotenv\n",
    "from langchain_docling import DoclingLoader\n",
    "\n",
    "# Docling loader\n",
    "def docling_loader(file_path, use_ocr_override: bool = False):\n",
    "    pipeline_options = PdfPipelineOptions()\n",
    "    pipeline_options.accelerator_options = AcceleratorOptions(\n",
    "        num_threads=8, device=AcceleratorDevice.CUDA\n",
    "    )\n",
    "    # Set OCR based on the parameter (default: OCR disabled)\n",
    "    pipeline_options.do_ocr = use_ocr_override\n",
    "\n",
    "    pipeline_options.do_table_structure = True\n",
    "    pipeline_options.table_structure_options.do_cell_matching = True  # uses text cells predicted from table structure model\n",
    "    pipeline_options.table_structure_options.mode = TableFormerMode.ACCURATE\n",
    "\n",
    "    doc_converter = DocumentConverter(\n",
    "        format_options={\n",
    "            InputFormat.PDF: PdfFormatOption(pipeline_options=pipeline_options)\n",
    "        }\n",
    "    )\n",
    "    # Enable the profiling to measure the time spent\n",
    "    # settings.debug.profile_pipeline_timings = True\n",
    "\n",
    "    # return DoclingLoader(chunker=HybridChunker(tokenizer=\"intfloat/multilingual-e5-large\", max_tokens=512), file_path=file_path, converter=doc_converter)\n",
    "    return DoclingLoader(chunker=HierarchicalChunker(), file_path=file_path, converter=doc_converter)"
   ],
   "outputs": [],
   "execution_count": 8
  },
  {
   "cell_type": "markdown",
   "metadata": {},
   "source": [
    "- The docs will be split into chunks, which will be vectorized using an embedding model before writing it into Milvus.\n",
    "- This process is necessary even when you write your own web scraping script, as you'll need to split the retrieved text before embedding it"
   ]
  },
  {
   "cell_type": "code",
   "metadata": {
    "ExecuteTime": {
     "end_time": "2025-04-29T19:04:59.142606Z",
     "start_time": "2025-04-29T19:04:53.655948Z"
    }
   },
   "source": [
    "def load_document_with_conditional_ocr(file_path, text_length_threshold: int = 10):\n",
    "    # First, try loading without OCR.\n",
    "    loader = docling_loader(file_path, use_ocr_override=False)\n",
    "    chunks = loader.load()\n",
    "\n",
    "    # Check if we got any chunks and whether they contain enough text.\n",
    "    total_text_length = sum(\n",
    "        len(chunk.page_content) for chunk in chunks if hasattr(chunk, \"page_content\") and chunk.page_content)\n",
    "    if not chunks or total_text_length < text_length_threshold:\n",
    "        print(\"Detected empty or minimal text output. Reprocessing with OCR enabled...\")\n",
    "        # Re-run with OCR enabled.\n",
    "        loader = docling_loader(file_path, use_ocr_override=True)\n",
    "        chunks = loader.load()\n",
    "    else:\n",
    "        print(\"Text detected without OCR; skipping OCR step.\")\n",
    "\n",
    "    return chunks\n",
    "\n",
    "\n",
    "from pathlib import Path\n",
    "\n",
    "path = Path(r\"../.data/AVB_HELVETIA/2-0071 06.68_DE.pdf\")  #A01-S_DE.pdf\")\n",
    "files_path = []\n",
    "# for file in path.iterdir():\n",
    "chunks = load_document_with_conditional_ocr(path)\n",
    "# Print the chunks that will be embedded later\n",
    "for i, chunk in enumerate(chunks):\n",
    "    print(f\"Chunk {i + 1}:\")\n",
    "    print(chunk)\n",
    "    print(\"-\" * 40)"
   ],
   "outputs": [
    {
     "name": "stdout",
     "output_type": "stream",
     "text": [
      "Text detected without OCR; skipping OCR step.\n",
      "Chunk 1:\n",
      "page_content='PATRIA\n",
      "SCHWEIZERISCHE LEBENSVERSICHERUNGS-GESELLSCHAFT AUF GEGENSEITIGKEIT BASEL' metadata={'source': WindowsPath('../.data/AVB_HELVETIA/2-0071 06.68_DE.pdf'), 'dl_meta': {'schema_name': 'docling_core.transforms.chunker.DocMeta', 'version': '1.0.0', 'doc_items': [{'self_ref': '#/texts/1', 'parent': {'$ref': '#/groups/0'}, 'children': [], 'content_layer': 'body', 'label': 'text', 'prov': [{'page_no': 1, 'bbox': {'l': 42.48, 't': 754.35, 'r': 448.262, 'b': 734.195, 'coord_origin': 'BOTTOMLEFT'}, 'charspan': [0, 73]}]}], 'headings': ['PATRIA'], 'origin': {'mimetype': 'application/pdf', 'binary_hash': 8325773841557957054, 'filename': '2-0071 06.68_DE.pdf'}}}\n",
      "----------------------------------------\n",
      "Chunk 2:\n",
      "page_content='Artikel 1  Umfang des Anspruches\n",
      "- 1.Auf  die  versicherten  Leistungen  besteht  Anspruch, wenn  der  Versicherte  infolge  von  Krankheit,  Zerfall der geistigen und körperlichen  Kräfte oder  infolge von  Körperverletzung  ganz oder  teilweise  nicht  mehr imstande ist, seinen Beruf oder eine andere seiner  Lebensstellung und seinen  Fähigkeiten angemessene Erwerbstätigkeit auszuüben.\n",
      "- 2. Ist  der  Versicherte  nur  teilweise  arbeitsunfähig,  so  entsprechen  die  Leistungen  dem  Grade  der  Arbeitsunfähigkeit.  Eine Arbeitsunfähigkeit  von weniger  als  25%  begründet  keinen  Anspruch  auf  Leistungen; beträgt  die  Arbeitsunfähigkeit  mindestens 75%,  so  wird die  volle Leistung  gewährt.' metadata={'source': WindowsPath('../.data/AVB_HELVETIA/2-0071 06.68_DE.pdf'), 'dl_meta': {'schema_name': 'docling_core.transforms.chunker.DocMeta', 'version': '1.0.0', 'doc_items': [{'self_ref': '#/texts/6', 'parent': {'$ref': '#/groups/1'}, 'children': [], 'content_layer': 'body', 'label': 'list_item', 'prov': [{'page_no': 1, 'bbox': {'l': 120.0, 't': 565.369, 'r': 531.482, 'b': 533.955, 'coord_origin': 'BOTTOMLEFT'}, 'charspan': [0, 355]}]}, {'self_ref': '#/texts/7', 'parent': {'$ref': '#/groups/1'}, 'children': [], 'content_layer': 'body', 'label': 'list_item', 'prov': [{'page_no': 1, 'bbox': {'l': 119.52, 't': 531.238, 'r': 531.41, 'b': 508.515, 'coord_origin': 'BOTTOMLEFT'}, 'charspan': [0, 314]}]}], 'headings': ['Artikel 1  Umfang des Anspruches'], 'origin': {'mimetype': 'application/pdf', 'binary_hash': 8325773841557957054, 'filename': '2-0071 06.68_DE.pdf'}}}\n",
      "----------------------------------------\n",
      "Chunk 3:\n",
      "page_content='Artikel 2  Beginn der Leistungen  -  Rentenzahlung  -  Kapitalzahlung\n",
      "- 1. a)  Die  Leistungen werden entsprechend der vereinbarten  Wartefrist  nach  einer  ununterbrochenen  Arbeitsunfähigkeit von 3 oder 6 Monaten gewährt. Über  den  Zeitpunkt  des  Leistungsbeginns  hinaus  gezahlte  Prämien  oder  Prämienteile werden zurückerstattet.\n",
      "- b)  Wird  bei  einer  Wartefrist  von  6  Monaten  in  deren  Verlauf  der  Nachweis  erbracht,  dass  von  der  Fort-\n",
      "- setzung  der  ärztlichen  Behandlung  eine  namhafte  Besserung  der  Arbeitsfähigkeit  des  Versicherten nicht  erwartet  werden  kann  und  die  bestehende  Arbeitsunfähigkeit  voraussichtlich  lebenslänglich  sein wird,  so  werden  die  Invaliditätsleistungen  schon  nach einer  ununterbrochenen Arbeitsunfähigkeit  von 3 Monaten gewährt.\n",
      "- 2. Renten  werden  vierteljährlich  vorschüssig  gezahlt, erstmals  nach Ablauf  der vereinbarten Wartefrist pro rata  temporis  bis  zum  Ende  des  laufenden Versicherungsvierteljahres,  nachher  zu  Beginn  eines  jeden Versicherungsvierteljahres.\n",
      "- 3. Ist  eine  Kapitalleistung  im  Invaliditätsfall  versichert,  so  wird  diese  ausbezahlt,  wenn  der  Nachweis  erbracht  wird,  dass von  weiterer  ärztlicher  Behandlung  eine namhafte Besserung der Arbeitsfähigkeit  des Versicherten nicht erwartet werden  kann und die Arbeitsunfähigkeit  voraussichtlich  lebenslänglich  sein wird.  Die Auszahlung erfolgt frühestens nach dreimonatiger  Dauer  der  Arbeitsunfähigkeit.' metadata={'source': WindowsPath('../.data/AVB_HELVETIA/2-0071 06.68_DE.pdf'), 'dl_meta': {'schema_name': 'docling_core.transforms.chunker.DocMeta', 'version': '1.0.0', 'doc_items': [{'self_ref': '#/texts/9', 'parent': {'$ref': '#/groups/2'}, 'children': [], 'content_layer': 'body', 'label': 'list_item', 'prov': [{'page_no': 1, 'bbox': {'l': 119.52, 't': 475.849, 'r': 530.903, 'b': 452.755, 'coord_origin': 'BOTTOMLEFT'}, 'charspan': [0, 267]}]}, {'self_ref': '#/texts/10', 'parent': {'$ref': '#/groups/2'}, 'children': [], 'content_layer': 'body', 'label': 'list_item', 'prov': [{'page_no': 1, 'bbox': {'l': 128.4, 't': 450.017, 'r': 530.901, 'b': 444.542, 'coord_origin': 'BOTTOMLEFT'}, 'charspan': [0, 118]}]}, {'self_ref': '#/texts/11', 'parent': {'$ref': '#/groups/2'}, 'children': [], 'content_layer': 'body', 'label': 'list_item', 'prov': [{'page_no': 1, 'bbox': {'l': 127.92, 't': 441.597, 'r': 531.403, 'b': 410.115, 'coord_origin': 'BOTTOMLEFT'}, 'charspan': [0, 343]}]}, {'self_ref': '#/texts/12', 'parent': {'$ref': '#/groups/2'}, 'children': [], 'content_layer': 'body', 'label': 'list_item', 'prov': [{'page_no': 1, 'bbox': {'l': 119.52, 't': 407.523, 'r': 530.765, 'b': 384.675, 'coord_origin': 'BOTTOMLEFT'}, 'charspan': [0, 250]}]}, {'self_ref': '#/texts/13', 'parent': {'$ref': '#/groups/2'}, 'children': [], 'content_layer': 'body', 'label': 'list_item', 'prov': [{'page_no': 1, 'bbox': {'l': 119.52, 't': 382.278, 'r': 530.903, 'b': 351.387, 'coord_origin': 'BOTTOMLEFT'}, 'charspan': [0, 427]}]}], 'headings': ['Artikel 2  Beginn der Leistungen  -  Rentenzahlung  -  Kapitalzahlung'], 'origin': {'mimetype': 'application/pdf', 'binary_hash': 8325773841557957054, 'filename': '2-0071 06.68_DE.pdf'}}}\n",
      "----------------------------------------\n",
      "Chunk 4:\n",
      "page_content='Artikel 3  Anspruchsbegründung\n",
      "- 1. Zur  Begründung des Anspruchs auf  Leistungen sind der  Gesellschaft  auf  Kosten des Anspruchsberechtigten folgende Belege einzureichen: a)  ein  Bericht  über  die  in  der  Leistungsfähigkeit  und  in den  Erwerbsverhältnissen des Versicherten eingetretene Veränderung;\n",
      "- b)  ein  ausführlicher  Bericht  der  Ärzte,  die  den  Versicherten  behandelt  haben,  über  Ursache,  Verlauf, Dauer  und  Folgen  der  Krankheit,  Körperverletzung  oder  des  Zerfalls  der  geistigen  oder  körperlichen Kräfte.\n",
      "- 2. Die  Gesellschaft  kann  über  den  gegenwärtigen  und  früheren  Gesundheitszustand  des  Versicherten  zusätzliche  Informationen  bei  Ärzten  oder  anderen  Personen  einziehen  und  den  Versicherten  durch  von ihr  bestimmte  Ärzte  untersuchen  lassen.' metadata={'source': WindowsPath('../.data/AVB_HELVETIA/2-0071 06.68_DE.pdf'), 'dl_meta': {'schema_name': 'docling_core.transforms.chunker.DocMeta', 'version': '1.0.0', 'doc_items': [{'self_ref': '#/texts/15', 'parent': {'$ref': '#/groups/3'}, 'children': [], 'content_layer': 'body', 'label': 'list_item', 'prov': [{'page_no': 1, 'bbox': {'l': 119.52, 't': 318.905, 'r': 530.661, 'b': 287.475, 'coord_origin': 'BOTTOMLEFT'}, 'charspan': [0, 275]}]}, {'self_ref': '#/texts/16', 'parent': {'$ref': '#/groups/3'}, 'children': [], 'content_layer': 'body', 'label': 'list_item', 'prov': [{'page_no': 1, 'bbox': {'l': 128.64, 't': 285.06500000000005, 'r': 530.639, 'b': 262.0350000000001, 'coord_origin': 'BOTTOMLEFT'}, 'charspan': [0, 232]}]}, {'self_ref': '#/texts/17', 'parent': {'$ref': '#/groups/3'}, 'children': [], 'content_layer': 'body', 'label': 'list_item', 'prov': [{'page_no': 1, 'bbox': {'l': 119.76, 't': 259.461, 'r': 530.895, 'b': 236.54700000000003, 'coord_origin': 'BOTTOMLEFT'}, 'charspan': [0, 263]}]}], 'headings': ['Artikel 3  Anspruchsbegründung'], 'origin': {'mimetype': 'application/pdf', 'binary_hash': 8325773841557957054, 'filename': '2-0071 06.68_DE.pdf'}}}\n",
      "----------------------------------------\n",
      "Chunk 5:\n",
      "page_content='Artikel 4  Änderung oder Aufhebung der Leistung\n",
      "- -I.Die  Gesellschaft  ist  berechtigt,  auf  ihre  Kosten  den  Grad  der Arbeitsunfähigkeit jederzeit nachzuprüfen; der  Versicherte  hat  sich  den  hiefür  erforderlichen  ärztlichen  Untersuchungen zu unterziehen.\n",
      "- 2. Der  Anspruchsberechtigte  ist  verpflichtet,  eine  merkliche Verbesserung des Grades der Arbeitsfähigkeit unverzüglich  der  Gesellschaft  anzuzeigen.\n",
      "- 3. Wird  eine Änderung  des  Grades  der  Arbeitsfähigkeit  festgestellt, so werden die  Leistungen der  Gesellschaft  mit  Wirkung von  dem Tage  an,  an  dem  die Änderung  eingetreten  ist,  dem  neuen  Grad  der  Arbeitsfähigkeit  angepasst.  Der  Anspruch  auf  Leistungen fällt dahin, wenn die Arbeitsunfähigkeit weniger als 25% beträgt.\n",
      "- 4. Verbessert  sich  der  Grad  der  Arbeitsfähigkeit,  so  sind allfällig  über  den Zeitpunkt  dieser  Verbesserung hinaus  aufgrund  des  bisherigen  Invaliditätsgrades  bezogene  Rententeile  zurückzuzahlen.  Im  Todesfall werden  bereits  fällig  gewesene  und  über  den  Todestag  hinaus  gezahlte  Raten  nicht  zurückgefordert, es sei  denn,  es  liege eine Verletzung  der  in Ziff. 2 oben erwähnten Anzeigepflicht vor.' metadata={'source': WindowsPath('../.data/AVB_HELVETIA/2-0071 06.68_DE.pdf'), 'dl_meta': {'schema_name': 'docling_core.transforms.chunker.DocMeta', 'version': '1.0.0', 'doc_items': [{'self_ref': '#/texts/19', 'parent': {'$ref': '#/groups/4'}, 'children': [], 'content_layer': 'body', 'label': 'list_item', 'prov': [{'page_no': 1, 'bbox': {'l': 119.76, 't': 204.70399999999995, 'r': 530.657, 'b': 190.58100000000002, 'coord_origin': 'BOTTOMLEFT'}, 'charspan': [0, 217]}]}, {'self_ref': '#/texts/20', 'parent': {'$ref': '#/groups/4'}, 'children': [], 'content_layer': 'body', 'label': 'list_item', 'prov': [{'page_no': 1, 'bbox': {'l': 119.52, 't': 187.80999999999995, 'r': 530.717, 'b': 173.53499999999997, 'coord_origin': 'BOTTOMLEFT'}, 'charspan': [0, 155]}]}, {'self_ref': '#/texts/21', 'parent': {'$ref': '#/groups/4'}, 'children': [], 'content_layer': 'body', 'label': 'list_item', 'prov': [{'page_no': 1, 'bbox': {'l': 120.24, 't': 171.04499999999996, 'r': 530.655, 'b': 139.635, 'coord_origin': 'BOTTOMLEFT'}, 'charspan': [0, 343]}]}, {'self_ref': '#/texts/22', 'parent': {'$ref': '#/groups/4'}, 'children': [], 'content_layer': 'body', 'label': 'list_item', 'prov': [{'page_no': 1, 'bbox': {'l': 120.0, 't': 137.51, 'r': 530.701, 'b': 106.61099999999999, 'coord_origin': 'BOTTOMLEFT'}, 'charspan': [0, 429]}]}], 'headings': ['Artikel 4  Änderung oder Aufhebung der Leistung'], 'origin': {'mimetype': 'application/pdf', 'binary_hash': 8325773841557957054, 'filename': '2-0071 06.68_DE.pdf'}}}\n",
      "----------------------------------------\n",
      "Chunk 6:\n",
      "page_content='Artikel 5  Wegfall der Leistungspflicht\n",
      "- 1. Die  Arbeitsunfähigkeit  ist  nicht  versichert,  wenn  sie entstanden ist:\n",
      "- a)  durch versuchte Selbsttötung oder  unzweifelhaft  absichtliche  Selbstverletzung,  es  sei  denn,  der  Anspruchsberechtigte  könne  nachweisen,  dass  die  Tat  in  einem  durch  typische  Geisteskrankheit  verursachten  Zustand  der  Urteilsunfähigkeit  begangen worden ist; b)  durch  Beteiligung an bürgerlichen  Unruhen;\n",
      "- c)  als  Folge  einer  verbrecherischen  Handlung  des Versicherten oder eines durch sie veranlassten Ereignisses.\n",
      "- 2. Führt  die  Schweiz  Krieg,  oder  wird  sie  in  kriegsähnliche  Handlungen  hineingezogen,  so  gelten  sinngemäss die Bestimmungen für den Kriegsfall  in den  «Allgemeinen  Bedingungen  für  Gruppenversicherungen».' metadata={'source': WindowsPath('../.data/AVB_HELVETIA/2-0071 06.68_DE.pdf'), 'dl_meta': {'schema_name': 'docling_core.transforms.chunker.DocMeta', 'version': '1.0.0', 'doc_items': [{'self_ref': '#/texts/27', 'parent': {'$ref': '#/groups/5'}, 'children': [], 'content_layer': 'body', 'label': 'list_item', 'prov': [{'page_no': 2, 'bbox': {'l': 62.4, 't': 638.19, 'r': 333.183, 'b': 632.715, 'coord_origin': 'BOTTOMLEFT'}, 'charspan': [0, 78]}]}, {'self_ref': '#/texts/28', 'parent': {'$ref': '#/groups/5'}, 'children': [], 'content_layer': 'body', 'label': 'list_item', 'prov': [{'page_no': 2, 'bbox': {'l': 70.8, 't': 629.411, 'r': 474.735, 'b': 598.915, 'coord_origin': 'BOTTOMLEFT'}, 'charspan': [0, 329]}]}, {'self_ref': '#/texts/29', 'parent': {'$ref': '#/groups/5'}, 'children': [], 'content_layer': 'body', 'label': 'list_item', 'prov': [{'page_no': 2, 'bbox': {'l': 70.56, 't': 595.505, 'r': 474.504, 'b': 581.955, 'coord_origin': 'BOTTOMLEFT'}, 'charspan': [0, 114]}]}, {'self_ref': '#/texts/30', 'parent': {'$ref': '#/groups/5'}, 'children': [], 'content_layer': 'body', 'label': 'list_item', 'prov': [{'page_no': 2, 'bbox': {'l': 62.4, 't': 578.678, 'r': 474.266, 'b': 556.515, 'coord_origin': 'BOTTOMLEFT'}, 'charspan': [0, 220]}]}], 'headings': ['Artikel 5  Wegfall der Leistungspflicht'], 'origin': {'mimetype': 'application/pdf', 'binary_hash': 8325773841557957054, 'filename': '2-0071 06.68_DE.pdf'}}}\n",
      "----------------------------------------\n",
      "Chunk 7:\n",
      "page_content='Artikel 6  Erlöschen der Zusatzversicherung\n",
      "Die  Kranken-  und  Invaliditäts-Zusatzversicherung erlischt:' metadata={'source': WindowsPath('../.data/AVB_HELVETIA/2-0071 06.68_DE.pdf'), 'dl_meta': {'schema_name': 'docling_core.transforms.chunker.DocMeta', 'version': '1.0.0', 'doc_items': [{'self_ref': '#/texts/32', 'parent': {'$ref': '#/body'}, 'children': [], 'content_layer': 'body', 'label': 'text', 'prov': [{'page_no': 2, 'bbox': {'l': 61.44, 't': 523.685, 'r': 286.598, 'b': 518.211, 'coord_origin': 'BOTTOMLEFT'}, 'charspan': [0, 61]}]}], 'headings': ['Artikel 6  Erlöschen der Zusatzversicherung'], 'origin': {'mimetype': 'application/pdf', 'binary_hash': 8325773841557957054, 'filename': '2-0071 06.68_DE.pdf'}}}\n",
      "----------------------------------------\n",
      "Chunk 8:\n",
      "page_content='Artikel 6  Erlöschen der Zusatzversicherung\n",
      "a)  wenn  der  Versicherte  an  einem  Krieg  oder  an  kriegsähnlichen  Handlungen  teilnimmt,  ohne  dass  die Schweiz selbst  Krieg  führt  oder  in  kriegsähnliche Handlungen  hineingezogen  ist;' metadata={'source': WindowsPath('../.data/AVB_HELVETIA/2-0071 06.68_DE.pdf'), 'dl_meta': {'schema_name': 'docling_core.transforms.chunker.DocMeta', 'version': '1.0.0', 'doc_items': [{'self_ref': '#/texts/33', 'parent': {'$ref': '#/body'}, 'children': [], 'content_layer': 'body', 'label': 'text', 'prov': [{'page_no': 2, 'bbox': {'l': 61.44, 't': 514.886, 'r': 473.664, 'b': 501.051, 'coord_origin': 'BOTTOMLEFT'}, 'charspan': [0, 199]}]}], 'headings': ['Artikel 6  Erlöschen der Zusatzversicherung'], 'origin': {'mimetype': 'application/pdf', 'binary_hash': 8325773841557957054, 'filename': '2-0071 06.68_DE.pdf'}}}\n",
      "----------------------------------------\n",
      "Chunk 9:\n",
      "page_content='Artikel 6  Erlöschen der Zusatzversicherung\n",
      "b)  wenn die Hauptversicherung ausser  Kraft tritt oder  in  eine  prämienfreie  umgewandelt  wird,  sowie  bei Ablauf  der  Prämienzahlungsdauer.' metadata={'source': WindowsPath('../.data/AVB_HELVETIA/2-0071 06.68_DE.pdf'), 'dl_meta': {'schema_name': 'docling_core.transforms.chunker.DocMeta', 'version': '1.0.0', 'doc_items': [{'self_ref': '#/texts/34', 'parent': {'$ref': '#/body'}, 'children': [], 'content_layer': 'body', 'label': 'text', 'prov': [{'page_no': 2, 'bbox': {'l': 61.44, 't': 497.83, 'r': 473.145, 'b': 484.275, 'coord_origin': 'BOTTOMLEFT'}, 'charspan': [0, 146]}]}], 'headings': ['Artikel 6  Erlöschen der Zusatzversicherung'], 'origin': {'mimetype': 'application/pdf', 'binary_hash': 8325773841557957054, 'filename': '2-0071 06.68_DE.pdf'}}}\n",
      "----------------------------------------\n",
      "Chunk 10:\n",
      "page_content='Artikel 6  Erlöschen der Zusatzversicherung\n",
      "Die Wiederinkraftsetzung einer erloschenen Kranken- und Invaliditäts-Zusatzversicherung bedarf  eines besonderen  Antrages  und  kann  nur  zu  den von  der  Gesellschaft  festgesetzten  Bedingungen erfolgen.' metadata={'source': WindowsPath('../.data/AVB_HELVETIA/2-0071 06.68_DE.pdf'), 'dl_meta': {'schema_name': 'docling_core.transforms.chunker.DocMeta', 'version': '1.0.0', 'doc_items': [{'self_ref': '#/texts/35', 'parent': {'$ref': '#/body'}, 'children': [], 'content_layer': 'body', 'label': 'text', 'prov': [{'page_no': 2, 'bbox': {'l': 60.96, 't': 480.798, 'r': 473.062, 'b': 466.922, 'coord_origin': 'BOTTOMLEFT'}, 'charspan': [0, 208]}]}], 'headings': ['Artikel 6  Erlöschen der Zusatzversicherung'], 'origin': {'mimetype': 'application/pdf', 'binary_hash': 8325773841557957054, 'filename': '2-0071 06.68_DE.pdf'}}}\n",
      "----------------------------------------\n",
      "Chunk 11:\n",
      "page_content='Artikel 7  Umwandlung und Rückkauf\n",
      "Die  Kranken- und  Invaliditäts-Zusatzversicherung  ist  nur  umwandlungs-  oder  rückkaufsfähig,  wenn  steigende  Invaliden-Renten  versichert  sind  oder  wenn  die  Versicherung mit Einmalprämie  abgeschlossen worden  ist.' metadata={'source': WindowsPath('../.data/AVB_HELVETIA/2-0071 06.68_DE.pdf'), 'dl_meta': {'schema_name': 'docling_core.transforms.chunker.DocMeta', 'version': '1.0.0', 'doc_items': [{'self_ref': '#/texts/37', 'parent': {'$ref': '#/body'}, 'children': [], 'content_layer': 'body', 'label': 'text', 'prov': [{'page_no': 2, 'bbox': {'l': 60.24, 't': 433.852, 'r': 472.339, 'b': 411.555, 'coord_origin': 'BOTTOMLEFT'}, 'charspan': [0, 226]}]}], 'headings': ['Artikel 7  Umwandlung und Rückkauf'], 'origin': {'mimetype': 'application/pdf', 'binary_hash': 8325773841557957054, 'filename': '2-0071 06.68_DE.pdf'}}}\n",
      "----------------------------------------\n",
      "Chunk 12:\n",
      "page_content='Artikel  8  Invaliden-Kinderrenten\n",
      "- I.Sind Invaliden-Kinderrenten mitversichert, so besteht  Anspruch  auf  Rentenzahlung  für  jedes  Kind  des arbeitsunfähigen  Versicherten,  welches  das  vereinbarte Schlussalter noch nicht erreicht  hat. Die Anzahl der  anspruchsberechtigten  Kinder  ist  jedoch  pro versicherte Person auf fünf  beschränkt.\n",
      "- 2. Anspruch  besteht  für  die  ehelichen  und  die  anerkannten oder  mit Standesfolge zugesprochenen Kinder des Versicherten, ebenso für die vor  dem  Eintritt der  Arbeitsunfähigkeit  des  Versicherten  angenommenen oder unentgeltlich zur dauernden Pflege und Erziehung aufgenommenen Stief- und  Pflegekinder.\n",
      "- 3. Die  Renten werden bei Arbeitsunfähigkeit des Versicherten von  mindestens 25% gewährt. Sie  beginnen nach Ablauf  der  vereinbarten Wartefrist  und werden während der  Dauer  der Arbeitsunfähigkeit des Versicherten  entsprechend  dem  Grad  der  Arbeitsunfähigkeit  entrichtet,  höchstens  aber  solange,  als  die Hauptversicherung  in  Kraft  ist,  und  längstens  bis zum vereinbarten  Schlussalter  oder  bis  zum  Tode der Kinder, wenn dieser vorher eintritt.\n",
      "- 4. Beginnt der Anspruch auf  Rentenzahlung mindestens drei Jahre vor Ablauf  der  Invaliditätsversicherung, so werden die  Invaliden-Kinderrenten auch  nach Ablauf  der  Invaliditätsversicherung weiterbezahlt, längstens  bis  zum vereinbarten  Schlussalter  oder  bis  zum Tod der  Kinder, wenn dieser  vorher  eintritt.\n",
      "- 5. Sofern  beim  Ablauf  einer  laufenden  Invaliden-Kinderrente infolge Erreichens des Schlussalters voraussichtlich  dauernde  Invalidität  des  versicherten  Kindes  besteht,  so  wird  die  Invaliden-Kinderrente  dem Invaiiditätsgrad des  Kindes  und des versicherten  Elternteils  entsprechend  lebenslänglich  weitergeführt, längstens  aber  solange,  als  der  versicherte  Elternteil nicht wieder zu  mindestens 75% arbeitsfähig  ist.\n",
      "- 6. Die  Invaliden-Kinderrente wird an voraussichtlich dauernd invalide Kinderdesversicherten  entsprechend ihrem  Invaliditätsgrad und demjenigen des Versicherten  auch  dann  ausgerichtet,  wenn  die  Kinder  im Zeitpunkt der  Invaliderklärung des Versicherten das  Schlussalter  überschritten  haben  und  bereits  bei Erreichen  des  Schlussalters  aus  derselben  Ursache invalid waren. Die Renten werden auch nach Ablauf der  Invaliditätsversicherung  ausgerichtet,  sofern  der  Versicherte  mindestens  drei  Jahre  vor  Ablauf  der Invaliditätsversicherung  invalid  erklärt  worden  ist,  längstens  aber  solange,  als  er  nicht  wieder  zu  mindestens 75% arbeitsfähig ist.' metadata={'source': WindowsPath('../.data/AVB_HELVETIA/2-0071 06.68_DE.pdf'), 'dl_meta': {'schema_name': 'docling_core.transforms.chunker.DocMeta', 'version': '1.0.0', 'doc_items': [{'self_ref': '#/texts/39', 'parent': {'$ref': '#/groups/6'}, 'children': [], 'content_layer': 'body', 'label': 'list_item', 'prov': [{'page_no': 2, 'bbox': {'l': 60.24, 't': 378.51, 'r': 472.177, 'b': 356.355, 'coord_origin': 'BOTTOMLEFT'}, 'charspan': [0, 311]}]}, {'self_ref': '#/texts/40', 'parent': {'$ref': '#/groups/6'}, 'children': [], 'content_layer': 'body', 'label': 'list_item', 'prov': [{'page_no': 2, 'bbox': {'l': 59.76, 't': 353.292, 'r': 471.728, 'b': 331.255, 'coord_origin': 'BOTTOMLEFT'}, 'charspan': [0, 312]}]}, {'self_ref': '#/texts/41', 'parent': {'$ref': '#/groups/6'}, 'children': [], 'content_layer': 'body', 'label': 'list_item', 'prov': [{'page_no': 2, 'bbox': {'l': 59.28, 't': 328.213, 'r': 471.475, 'b': 289.10699999999997, 'coord_origin': 'BOTTOMLEFT'}, 'charspan': [0, 468]}]}, {'self_ref': '#/texts/42', 'parent': {'$ref': '#/groups/6'}, 'children': [], 'content_layer': 'body', 'label': 'list_item', 'prov': [{'page_no': 2, 'bbox': {'l': 59.04, 't': 286.0640000000001, 'r': 471.386, 'b': 263.571, 'coord_origin': 'BOTTOMLEFT'}, 'charspan': [0, 320]}]}, {'self_ref': '#/texts/43', 'parent': {'$ref': '#/groups/6'}, 'children': [], 'content_layer': 'body', 'label': 'list_item', 'prov': [{'page_no': 2, 'bbox': {'l': 59.04, 't': 260.54999999999995, 'r': 471.143, 'b': 229.49800000000005, 'coord_origin': 'BOTTOMLEFT'}, 'charspan': [0, 442]}]}, {'self_ref': '#/texts/44', 'parent': {'$ref': '#/groups/6'}, 'children': [], 'content_layer': 'body', 'label': 'list_item', 'prov': [{'page_no': 2, 'bbox': {'l': 58.32, 't': 226.54099999999994, 'r': 470.794, 'b': 170.115, 'coord_origin': 'BOTTOMLEFT'}, 'charspan': [0, 685]}]}], 'headings': ['Artikel  8  Invaliden-Kinderrenten'], 'origin': {'mimetype': 'application/pdf', 'binary_hash': 8325773841557957054, 'filename': '2-0071 06.68_DE.pdf'}}}\n",
      "----------------------------------------\n"
     ]
    }
   ],
   "execution_count": 9
  },
  {
   "cell_type": "markdown",
   "metadata": {},
   "source": [
    "# Prepare Chunks and Create Embeddings\n",
    "\n",
    "intfloat/multilingual-e5-large expects a \"passage: \" prefix before each text passage."
   ]
  },
  {
   "cell_type": "code",
   "metadata": {
    "ExecuteTime": {
     "end_time": "2025-04-29T19:12:59.565938Z",
     "start_time": "2025-04-29T19:12:54.408403Z"
    }
   },
   "source": [
    "import json\n",
    "from pathlib import Path\n",
    "\n",
    "# Function to make metadata JSON serializable (reuse from previous context)\n",
    "def make_serializable(metadata_dict):\n",
    "    serializable_meta = {}\n",
    "    if not isinstance(metadata_dict, dict): # Handle cases where input isn't a dict\n",
    "        return str(metadata_dict) if isinstance(metadata_dict, Path) else metadata_dict\n",
    "\n",
    "    for key, value in metadata_dict.items():\n",
    "        if isinstance(value, Path):\n",
    "            serializable_meta[key] = str(value) # Convert Path to string\n",
    "        elif isinstance(value, dict):\n",
    "            serializable_meta[key] = make_serializable(value) # Recursively process nested dicts\n",
    "        elif isinstance(value, list):\n",
    "             serializable_meta[key] = [make_serializable(item) for item in value] # Recursively process list items\n",
    "        else:\n",
    "            # Assume other types are directly serializable\n",
    "            serializable_meta[key] = value\n",
    "    return serializable_meta\n",
    "\n",
    "# Add  \"passage: \" to beginning of each chunk for e5-large\n",
    "input_texts = [\"passage: \" + chunk.page_content for chunk in chunks]\n",
    "docling_metadata = [chunk.metadata for chunk in chunks]\n",
    "# Make metadata serializable\n",
    "serializable_metadata = [make_serializable(meta) for meta in docling_metadata]\n",
    "\n",
    "page_numbers = []\n",
    "chapters = [] # Example: Extract from 'headings' if relevant\n",
    "file_names = []\n",
    "for meta in serializable_metadata:\n",
    "    # Page Number Extraction (Example)\n",
    "    page_no = -1 # Default value\n",
    "    try:\n",
    "        # Adjust path based on your actual metadata structure\n",
    "        page_no = meta.get('dl_meta', {}).get('doc_items', [{}])[0].get('prov', [{}])[0].get('page_no', -1)\n",
    "    except (IndexError, KeyError, AttributeError):\n",
    "        pass # Keep default if extraction fails\n",
    "    page_numbers.append(page_no)\n",
    "\n",
    "    # Chapter Extraction (Example - using 'headings')\n",
    "    chapter_name = \"Unknown\" # Default value\n",
    "    try:\n",
    "        # Assumes 'headings' list exists and contains the relevant chapter\n",
    "        headings = meta.get('dl_meta', {}).get('headings', [])\n",
    "        if headings:\n",
    "            chapter_name = headings[0] # Take the first heading as chapter\n",
    "    except (KeyError, AttributeError):\n",
    "        pass\n",
    "    # Ensure chapter name does not exceed max_length if defined in schema\n",
    "    chapters.append(chapter_name) # Use schema max_length\n",
    "\n",
    "    file_name= \"Unknown\" # Default value\n",
    "    try:\n",
    "        # Adjust path based on your actual metadata structure\n",
    "        file_name = meta.get('dl_meta', {}).get('origin', [{}]).get('filename', \"Unknown\")\n",
    "    except (IndexError, KeyError, AttributeError):\n",
    "        pass # Keep default if extraction fails\n",
    "    file_names.append(file_name)\n",
    "\n",
    "# Placeholder values - replace with actual extraction logic\n",
    "product_names = [\"Helvetia Product X\"] * len(chunks) # Example\n",
    "product_years = [\"2024\"] * len(chunks) # Example\n",
    "company_entity_names = [\"Helvetia\"] * len(chunks) # Example\n",
    "\n",
    "\n",
    "print (f\"Input texts: {input_texts}\\n\\nPage: {page_numbers}\\nChapters:{chapters}\\nFile_name:{file_names}\\n Metadata: {docling_metadata}\\n\\n\")\n",
    "# Embed the Chunks using SentenceTransformer with intfloat/multilingual-e5-large\n",
    "model = SentenceTransformer(\"intfloat/multilingual-e5-large\")\n",
    "embeddings = model.encode(input_texts, normalize_embeddings=True)\n",
    "dim = embeddings.shape[1]"
   ],
   "outputs": [
    {
     "name": "stdout",
     "output_type": "stream",
     "text": [
      "Input texts: ['passage: PATRIA\\nSCHWEIZERISCHE LEBENSVERSICHERUNGS-GESELLSCHAFT AUF GEGENSEITIGKEIT BASEL', 'passage: Artikel 1  Umfang des Anspruches\\n- 1.Auf  die  versicherten  Leistungen  besteht  Anspruch, wenn  der  Versicherte  infolge  von  Krankheit,  Zerfall der geistigen und körperlichen  Kräfte oder  infolge von  Körperverletzung  ganz oder  teilweise  nicht  mehr imstande ist, seinen Beruf oder eine andere seiner  Lebensstellung und seinen  Fähigkeiten angemessene Erwerbstätigkeit auszuüben.\\n- 2. Ist  der  Versicherte  nur  teilweise  arbeitsunfähig,  so  entsprechen  die  Leistungen  dem  Grade  der  Arbeitsunfähigkeit.  Eine Arbeitsunfähigkeit  von weniger  als  25%  begründet  keinen  Anspruch  auf  Leistungen; beträgt  die  Arbeitsunfähigkeit  mindestens 75%,  so  wird die  volle Leistung  gewährt.', 'passage: Artikel 2  Beginn der Leistungen  -  Rentenzahlung  -  Kapitalzahlung\\n- 1. a)  Die  Leistungen werden entsprechend der vereinbarten  Wartefrist  nach  einer  ununterbrochenen  Arbeitsunfähigkeit von 3 oder 6 Monaten gewährt. Über  den  Zeitpunkt  des  Leistungsbeginns  hinaus  gezahlte  Prämien  oder  Prämienteile werden zurückerstattet.\\n- b)  Wird  bei  einer  Wartefrist  von  6  Monaten  in  deren  Verlauf  der  Nachweis  erbracht,  dass  von  der  Fort-\\n- setzung  der  ärztlichen  Behandlung  eine  namhafte  Besserung  der  Arbeitsfähigkeit  des  Versicherten nicht  erwartet  werden  kann  und  die  bestehende  Arbeitsunfähigkeit  voraussichtlich  lebenslänglich  sein wird,  so  werden  die  Invaliditätsleistungen  schon  nach einer  ununterbrochenen Arbeitsunfähigkeit  von 3 Monaten gewährt.\\n- 2. Renten  werden  vierteljährlich  vorschüssig  gezahlt, erstmals  nach Ablauf  der vereinbarten Wartefrist pro rata  temporis  bis  zum  Ende  des  laufenden Versicherungsvierteljahres,  nachher  zu  Beginn  eines  jeden Versicherungsvierteljahres.\\n- 3. Ist  eine  Kapitalleistung  im  Invaliditätsfall  versichert,  so  wird  diese  ausbezahlt,  wenn  der  Nachweis  erbracht  wird,  dass von  weiterer  ärztlicher  Behandlung  eine namhafte Besserung der Arbeitsfähigkeit  des Versicherten nicht erwartet werden  kann und die Arbeitsunfähigkeit  voraussichtlich  lebenslänglich  sein wird.  Die Auszahlung erfolgt frühestens nach dreimonatiger  Dauer  der  Arbeitsunfähigkeit.', 'passage: Artikel 3  Anspruchsbegründung\\n- 1. Zur  Begründung des Anspruchs auf  Leistungen sind der  Gesellschaft  auf  Kosten des Anspruchsberechtigten folgende Belege einzureichen: a)  ein  Bericht  über  die  in  der  Leistungsfähigkeit  und  in den  Erwerbsverhältnissen des Versicherten eingetretene Veränderung;\\n- b)  ein  ausführlicher  Bericht  der  Ärzte,  die  den  Versicherten  behandelt  haben,  über  Ursache,  Verlauf, Dauer  und  Folgen  der  Krankheit,  Körperverletzung  oder  des  Zerfalls  der  geistigen  oder  körperlichen Kräfte.\\n- 2. Die  Gesellschaft  kann  über  den  gegenwärtigen  und  früheren  Gesundheitszustand  des  Versicherten  zusätzliche  Informationen  bei  Ärzten  oder  anderen  Personen  einziehen  und  den  Versicherten  durch  von ihr  bestimmte  Ärzte  untersuchen  lassen.', 'passage: Artikel 4  Änderung oder Aufhebung der Leistung\\n- -I.Die  Gesellschaft  ist  berechtigt,  auf  ihre  Kosten  den  Grad  der Arbeitsunfähigkeit jederzeit nachzuprüfen; der  Versicherte  hat  sich  den  hiefür  erforderlichen  ärztlichen  Untersuchungen zu unterziehen.\\n- 2. Der  Anspruchsberechtigte  ist  verpflichtet,  eine  merkliche Verbesserung des Grades der Arbeitsfähigkeit unverzüglich  der  Gesellschaft  anzuzeigen.\\n- 3. Wird  eine Änderung  des  Grades  der  Arbeitsfähigkeit  festgestellt, so werden die  Leistungen der  Gesellschaft  mit  Wirkung von  dem Tage  an,  an  dem  die Änderung  eingetreten  ist,  dem  neuen  Grad  der  Arbeitsfähigkeit  angepasst.  Der  Anspruch  auf  Leistungen fällt dahin, wenn die Arbeitsunfähigkeit weniger als 25% beträgt.\\n- 4. Verbessert  sich  der  Grad  der  Arbeitsfähigkeit,  so  sind allfällig  über  den Zeitpunkt  dieser  Verbesserung hinaus  aufgrund  des  bisherigen  Invaliditätsgrades  bezogene  Rententeile  zurückzuzahlen.  Im  Todesfall werden  bereits  fällig  gewesene  und  über  den  Todestag  hinaus  gezahlte  Raten  nicht  zurückgefordert, es sei  denn,  es  liege eine Verletzung  der  in Ziff. 2 oben erwähnten Anzeigepflicht vor.', 'passage: Artikel 5  Wegfall der Leistungspflicht\\n- 1. Die  Arbeitsunfähigkeit  ist  nicht  versichert,  wenn  sie entstanden ist:\\n- a)  durch versuchte Selbsttötung oder  unzweifelhaft  absichtliche  Selbstverletzung,  es  sei  denn,  der  Anspruchsberechtigte  könne  nachweisen,  dass  die  Tat  in  einem  durch  typische  Geisteskrankheit  verursachten  Zustand  der  Urteilsunfähigkeit  begangen worden ist; b)  durch  Beteiligung an bürgerlichen  Unruhen;\\n- c)  als  Folge  einer  verbrecherischen  Handlung  des Versicherten oder eines durch sie veranlassten Ereignisses.\\n- 2. Führt  die  Schweiz  Krieg,  oder  wird  sie  in  kriegsähnliche  Handlungen  hineingezogen,  so  gelten  sinngemäss die Bestimmungen für den Kriegsfall  in den  «Allgemeinen  Bedingungen  für  Gruppenversicherungen».', 'passage: Artikel 6  Erlöschen der Zusatzversicherung\\nDie  Kranken-  und  Invaliditäts-Zusatzversicherung erlischt:', 'passage: Artikel 6  Erlöschen der Zusatzversicherung\\na)  wenn  der  Versicherte  an  einem  Krieg  oder  an  kriegsähnlichen  Handlungen  teilnimmt,  ohne  dass  die Schweiz selbst  Krieg  führt  oder  in  kriegsähnliche Handlungen  hineingezogen  ist;', 'passage: Artikel 6  Erlöschen der Zusatzversicherung\\nb)  wenn die Hauptversicherung ausser  Kraft tritt oder  in  eine  prämienfreie  umgewandelt  wird,  sowie  bei Ablauf  der  Prämienzahlungsdauer.', 'passage: Artikel 6  Erlöschen der Zusatzversicherung\\nDie Wiederinkraftsetzung einer erloschenen Kranken- und Invaliditäts-Zusatzversicherung bedarf  eines besonderen  Antrages  und  kann  nur  zu  den von  der  Gesellschaft  festgesetzten  Bedingungen erfolgen.', 'passage: Artikel 7  Umwandlung und Rückkauf\\nDie  Kranken- und  Invaliditäts-Zusatzversicherung  ist  nur  umwandlungs-  oder  rückkaufsfähig,  wenn  steigende  Invaliden-Renten  versichert  sind  oder  wenn  die  Versicherung mit Einmalprämie  abgeschlossen worden  ist.', 'passage: Artikel  8  Invaliden-Kinderrenten\\n- I.Sind Invaliden-Kinderrenten mitversichert, so besteht  Anspruch  auf  Rentenzahlung  für  jedes  Kind  des arbeitsunfähigen  Versicherten,  welches  das  vereinbarte Schlussalter noch nicht erreicht  hat. Die Anzahl der  anspruchsberechtigten  Kinder  ist  jedoch  pro versicherte Person auf fünf  beschränkt.\\n- 2. Anspruch  besteht  für  die  ehelichen  und  die  anerkannten oder  mit Standesfolge zugesprochenen Kinder des Versicherten, ebenso für die vor  dem  Eintritt der  Arbeitsunfähigkeit  des  Versicherten  angenommenen oder unentgeltlich zur dauernden Pflege und Erziehung aufgenommenen Stief- und  Pflegekinder.\\n- 3. Die  Renten werden bei Arbeitsunfähigkeit des Versicherten von  mindestens 25% gewährt. Sie  beginnen nach Ablauf  der  vereinbarten Wartefrist  und werden während der  Dauer  der Arbeitsunfähigkeit des Versicherten  entsprechend  dem  Grad  der  Arbeitsunfähigkeit  entrichtet,  höchstens  aber  solange,  als  die Hauptversicherung  in  Kraft  ist,  und  längstens  bis zum vereinbarten  Schlussalter  oder  bis  zum  Tode der Kinder, wenn dieser vorher eintritt.\\n- 4. Beginnt der Anspruch auf  Rentenzahlung mindestens drei Jahre vor Ablauf  der  Invaliditätsversicherung, so werden die  Invaliden-Kinderrenten auch  nach Ablauf  der  Invaliditätsversicherung weiterbezahlt, längstens  bis  zum vereinbarten  Schlussalter  oder  bis  zum Tod der  Kinder, wenn dieser  vorher  eintritt.\\n- 5. Sofern  beim  Ablauf  einer  laufenden  Invaliden-Kinderrente infolge Erreichens des Schlussalters voraussichtlich  dauernde  Invalidität  des  versicherten  Kindes  besteht,  so  wird  die  Invaliden-Kinderrente  dem Invaiiditätsgrad des  Kindes  und des versicherten  Elternteils  entsprechend  lebenslänglich  weitergeführt, längstens  aber  solange,  als  der  versicherte  Elternteil nicht wieder zu  mindestens 75% arbeitsfähig  ist.\\n- 6. Die  Invaliden-Kinderrente wird an voraussichtlich dauernd invalide Kinderdesversicherten  entsprechend ihrem  Invaliditätsgrad und demjenigen des Versicherten  auch  dann  ausgerichtet,  wenn  die  Kinder  im Zeitpunkt der  Invaliderklärung des Versicherten das  Schlussalter  überschritten  haben  und  bereits  bei Erreichen  des  Schlussalters  aus  derselben  Ursache invalid waren. Die Renten werden auch nach Ablauf der  Invaliditätsversicherung  ausgerichtet,  sofern  der  Versicherte  mindestens  drei  Jahre  vor  Ablauf  der Invaliditätsversicherung  invalid  erklärt  worden  ist,  längstens  aber  solange,  als  er  nicht  wieder  zu  mindestens 75% arbeitsfähig ist.']\n",
      "\n",
      "Page: [1, 1, 1, 1, 1, 2, 2, 2, 2, 2, 2, 2]\n",
      "Chapters:['PATRIA', 'Artikel 1  Umfang des Anspruches', 'Artikel 2  Beginn der Leistungen  -  Rentenzahlung  -  Kapitalzahlung', 'Artikel 3  Anspruchsbegründung', 'Artikel 4  Änderung oder Aufhebung der Leistung', 'Artikel 5  Wegfall der Leistungspflicht', 'Artikel 6  Erlöschen der Zusatzversicherung', 'Artikel 6  Erlöschen der Zusatzversicherung', 'Artikel 6  Erlöschen der Zusatzversicherung', 'Artikel 6  Erlöschen der Zusatzversicherung', 'Artikel 7  Umwandlung und Rückkauf', 'Artikel  8  Invaliden-Kinderrenten']\n",
      "File_name:['2-0071 06.68_DE.pdf', '2-0071 06.68_DE.pdf', '2-0071 06.68_DE.pdf', '2-0071 06.68_DE.pdf', '2-0071 06.68_DE.pdf', '2-0071 06.68_DE.pdf', '2-0071 06.68_DE.pdf', '2-0071 06.68_DE.pdf', '2-0071 06.68_DE.pdf', '2-0071 06.68_DE.pdf', '2-0071 06.68_DE.pdf', '2-0071 06.68_DE.pdf']\n",
      " Metadata: [{'source': WindowsPath('../.data/AVB_HELVETIA/2-0071 06.68_DE.pdf'), 'dl_meta': {'schema_name': 'docling_core.transforms.chunker.DocMeta', 'version': '1.0.0', 'doc_items': [{'self_ref': '#/texts/1', 'parent': {'$ref': '#/groups/0'}, 'children': [], 'content_layer': 'body', 'label': 'text', 'prov': [{'page_no': 1, 'bbox': {'l': 42.48, 't': 754.35, 'r': 448.262, 'b': 734.195, 'coord_origin': 'BOTTOMLEFT'}, 'charspan': [0, 73]}]}], 'headings': ['PATRIA'], 'origin': {'mimetype': 'application/pdf', 'binary_hash': 8325773841557957054, 'filename': '2-0071 06.68_DE.pdf'}}}, {'source': WindowsPath('../.data/AVB_HELVETIA/2-0071 06.68_DE.pdf'), 'dl_meta': {'schema_name': 'docling_core.transforms.chunker.DocMeta', 'version': '1.0.0', 'doc_items': [{'self_ref': '#/texts/6', 'parent': {'$ref': '#/groups/1'}, 'children': [], 'content_layer': 'body', 'label': 'list_item', 'prov': [{'page_no': 1, 'bbox': {'l': 120.0, 't': 565.369, 'r': 531.482, 'b': 533.955, 'coord_origin': 'BOTTOMLEFT'}, 'charspan': [0, 355]}]}, {'self_ref': '#/texts/7', 'parent': {'$ref': '#/groups/1'}, 'children': [], 'content_layer': 'body', 'label': 'list_item', 'prov': [{'page_no': 1, 'bbox': {'l': 119.52, 't': 531.238, 'r': 531.41, 'b': 508.515, 'coord_origin': 'BOTTOMLEFT'}, 'charspan': [0, 314]}]}], 'headings': ['Artikel 1  Umfang des Anspruches'], 'origin': {'mimetype': 'application/pdf', 'binary_hash': 8325773841557957054, 'filename': '2-0071 06.68_DE.pdf'}}}, {'source': WindowsPath('../.data/AVB_HELVETIA/2-0071 06.68_DE.pdf'), 'dl_meta': {'schema_name': 'docling_core.transforms.chunker.DocMeta', 'version': '1.0.0', 'doc_items': [{'self_ref': '#/texts/9', 'parent': {'$ref': '#/groups/2'}, 'children': [], 'content_layer': 'body', 'label': 'list_item', 'prov': [{'page_no': 1, 'bbox': {'l': 119.52, 't': 475.849, 'r': 530.903, 'b': 452.755, 'coord_origin': 'BOTTOMLEFT'}, 'charspan': [0, 267]}]}, {'self_ref': '#/texts/10', 'parent': {'$ref': '#/groups/2'}, 'children': [], 'content_layer': 'body', 'label': 'list_item', 'prov': [{'page_no': 1, 'bbox': {'l': 128.4, 't': 450.017, 'r': 530.901, 'b': 444.542, 'coord_origin': 'BOTTOMLEFT'}, 'charspan': [0, 118]}]}, {'self_ref': '#/texts/11', 'parent': {'$ref': '#/groups/2'}, 'children': [], 'content_layer': 'body', 'label': 'list_item', 'prov': [{'page_no': 1, 'bbox': {'l': 127.92, 't': 441.597, 'r': 531.403, 'b': 410.115, 'coord_origin': 'BOTTOMLEFT'}, 'charspan': [0, 343]}]}, {'self_ref': '#/texts/12', 'parent': {'$ref': '#/groups/2'}, 'children': [], 'content_layer': 'body', 'label': 'list_item', 'prov': [{'page_no': 1, 'bbox': {'l': 119.52, 't': 407.523, 'r': 530.765, 'b': 384.675, 'coord_origin': 'BOTTOMLEFT'}, 'charspan': [0, 250]}]}, {'self_ref': '#/texts/13', 'parent': {'$ref': '#/groups/2'}, 'children': [], 'content_layer': 'body', 'label': 'list_item', 'prov': [{'page_no': 1, 'bbox': {'l': 119.52, 't': 382.278, 'r': 530.903, 'b': 351.387, 'coord_origin': 'BOTTOMLEFT'}, 'charspan': [0, 427]}]}], 'headings': ['Artikel 2  Beginn der Leistungen  -  Rentenzahlung  -  Kapitalzahlung'], 'origin': {'mimetype': 'application/pdf', 'binary_hash': 8325773841557957054, 'filename': '2-0071 06.68_DE.pdf'}}}, {'source': WindowsPath('../.data/AVB_HELVETIA/2-0071 06.68_DE.pdf'), 'dl_meta': {'schema_name': 'docling_core.transforms.chunker.DocMeta', 'version': '1.0.0', 'doc_items': [{'self_ref': '#/texts/15', 'parent': {'$ref': '#/groups/3'}, 'children': [], 'content_layer': 'body', 'label': 'list_item', 'prov': [{'page_no': 1, 'bbox': {'l': 119.52, 't': 318.905, 'r': 530.661, 'b': 287.475, 'coord_origin': 'BOTTOMLEFT'}, 'charspan': [0, 275]}]}, {'self_ref': '#/texts/16', 'parent': {'$ref': '#/groups/3'}, 'children': [], 'content_layer': 'body', 'label': 'list_item', 'prov': [{'page_no': 1, 'bbox': {'l': 128.64, 't': 285.06500000000005, 'r': 530.639, 'b': 262.0350000000001, 'coord_origin': 'BOTTOMLEFT'}, 'charspan': [0, 232]}]}, {'self_ref': '#/texts/17', 'parent': {'$ref': '#/groups/3'}, 'children': [], 'content_layer': 'body', 'label': 'list_item', 'prov': [{'page_no': 1, 'bbox': {'l': 119.76, 't': 259.461, 'r': 530.895, 'b': 236.54700000000003, 'coord_origin': 'BOTTOMLEFT'}, 'charspan': [0, 263]}]}], 'headings': ['Artikel 3  Anspruchsbegründung'], 'origin': {'mimetype': 'application/pdf', 'binary_hash': 8325773841557957054, 'filename': '2-0071 06.68_DE.pdf'}}}, {'source': WindowsPath('../.data/AVB_HELVETIA/2-0071 06.68_DE.pdf'), 'dl_meta': {'schema_name': 'docling_core.transforms.chunker.DocMeta', 'version': '1.0.0', 'doc_items': [{'self_ref': '#/texts/19', 'parent': {'$ref': '#/groups/4'}, 'children': [], 'content_layer': 'body', 'label': 'list_item', 'prov': [{'page_no': 1, 'bbox': {'l': 119.76, 't': 204.70399999999995, 'r': 530.657, 'b': 190.58100000000002, 'coord_origin': 'BOTTOMLEFT'}, 'charspan': [0, 217]}]}, {'self_ref': '#/texts/20', 'parent': {'$ref': '#/groups/4'}, 'children': [], 'content_layer': 'body', 'label': 'list_item', 'prov': [{'page_no': 1, 'bbox': {'l': 119.52, 't': 187.80999999999995, 'r': 530.717, 'b': 173.53499999999997, 'coord_origin': 'BOTTOMLEFT'}, 'charspan': [0, 155]}]}, {'self_ref': '#/texts/21', 'parent': {'$ref': '#/groups/4'}, 'children': [], 'content_layer': 'body', 'label': 'list_item', 'prov': [{'page_no': 1, 'bbox': {'l': 120.24, 't': 171.04499999999996, 'r': 530.655, 'b': 139.635, 'coord_origin': 'BOTTOMLEFT'}, 'charspan': [0, 343]}]}, {'self_ref': '#/texts/22', 'parent': {'$ref': '#/groups/4'}, 'children': [], 'content_layer': 'body', 'label': 'list_item', 'prov': [{'page_no': 1, 'bbox': {'l': 120.0, 't': 137.51, 'r': 530.701, 'b': 106.61099999999999, 'coord_origin': 'BOTTOMLEFT'}, 'charspan': [0, 429]}]}], 'headings': ['Artikel 4  Änderung oder Aufhebung der Leistung'], 'origin': {'mimetype': 'application/pdf', 'binary_hash': 8325773841557957054, 'filename': '2-0071 06.68_DE.pdf'}}}, {'source': WindowsPath('../.data/AVB_HELVETIA/2-0071 06.68_DE.pdf'), 'dl_meta': {'schema_name': 'docling_core.transforms.chunker.DocMeta', 'version': '1.0.0', 'doc_items': [{'self_ref': '#/texts/27', 'parent': {'$ref': '#/groups/5'}, 'children': [], 'content_layer': 'body', 'label': 'list_item', 'prov': [{'page_no': 2, 'bbox': {'l': 62.4, 't': 638.19, 'r': 333.183, 'b': 632.715, 'coord_origin': 'BOTTOMLEFT'}, 'charspan': [0, 78]}]}, {'self_ref': '#/texts/28', 'parent': {'$ref': '#/groups/5'}, 'children': [], 'content_layer': 'body', 'label': 'list_item', 'prov': [{'page_no': 2, 'bbox': {'l': 70.8, 't': 629.411, 'r': 474.735, 'b': 598.915, 'coord_origin': 'BOTTOMLEFT'}, 'charspan': [0, 329]}]}, {'self_ref': '#/texts/29', 'parent': {'$ref': '#/groups/5'}, 'children': [], 'content_layer': 'body', 'label': 'list_item', 'prov': [{'page_no': 2, 'bbox': {'l': 70.56, 't': 595.505, 'r': 474.504, 'b': 581.955, 'coord_origin': 'BOTTOMLEFT'}, 'charspan': [0, 114]}]}, {'self_ref': '#/texts/30', 'parent': {'$ref': '#/groups/5'}, 'children': [], 'content_layer': 'body', 'label': 'list_item', 'prov': [{'page_no': 2, 'bbox': {'l': 62.4, 't': 578.678, 'r': 474.266, 'b': 556.515, 'coord_origin': 'BOTTOMLEFT'}, 'charspan': [0, 220]}]}], 'headings': ['Artikel 5  Wegfall der Leistungspflicht'], 'origin': {'mimetype': 'application/pdf', 'binary_hash': 8325773841557957054, 'filename': '2-0071 06.68_DE.pdf'}}}, {'source': WindowsPath('../.data/AVB_HELVETIA/2-0071 06.68_DE.pdf'), 'dl_meta': {'schema_name': 'docling_core.transforms.chunker.DocMeta', 'version': '1.0.0', 'doc_items': [{'self_ref': '#/texts/32', 'parent': {'$ref': '#/body'}, 'children': [], 'content_layer': 'body', 'label': 'text', 'prov': [{'page_no': 2, 'bbox': {'l': 61.44, 't': 523.685, 'r': 286.598, 'b': 518.211, 'coord_origin': 'BOTTOMLEFT'}, 'charspan': [0, 61]}]}], 'headings': ['Artikel 6  Erlöschen der Zusatzversicherung'], 'origin': {'mimetype': 'application/pdf', 'binary_hash': 8325773841557957054, 'filename': '2-0071 06.68_DE.pdf'}}}, {'source': WindowsPath('../.data/AVB_HELVETIA/2-0071 06.68_DE.pdf'), 'dl_meta': {'schema_name': 'docling_core.transforms.chunker.DocMeta', 'version': '1.0.0', 'doc_items': [{'self_ref': '#/texts/33', 'parent': {'$ref': '#/body'}, 'children': [], 'content_layer': 'body', 'label': 'text', 'prov': [{'page_no': 2, 'bbox': {'l': 61.44, 't': 514.886, 'r': 473.664, 'b': 501.051, 'coord_origin': 'BOTTOMLEFT'}, 'charspan': [0, 199]}]}], 'headings': ['Artikel 6  Erlöschen der Zusatzversicherung'], 'origin': {'mimetype': 'application/pdf', 'binary_hash': 8325773841557957054, 'filename': '2-0071 06.68_DE.pdf'}}}, {'source': WindowsPath('../.data/AVB_HELVETIA/2-0071 06.68_DE.pdf'), 'dl_meta': {'schema_name': 'docling_core.transforms.chunker.DocMeta', 'version': '1.0.0', 'doc_items': [{'self_ref': '#/texts/34', 'parent': {'$ref': '#/body'}, 'children': [], 'content_layer': 'body', 'label': 'text', 'prov': [{'page_no': 2, 'bbox': {'l': 61.44, 't': 497.83, 'r': 473.145, 'b': 484.275, 'coord_origin': 'BOTTOMLEFT'}, 'charspan': [0, 146]}]}], 'headings': ['Artikel 6  Erlöschen der Zusatzversicherung'], 'origin': {'mimetype': 'application/pdf', 'binary_hash': 8325773841557957054, 'filename': '2-0071 06.68_DE.pdf'}}}, {'source': WindowsPath('../.data/AVB_HELVETIA/2-0071 06.68_DE.pdf'), 'dl_meta': {'schema_name': 'docling_core.transforms.chunker.DocMeta', 'version': '1.0.0', 'doc_items': [{'self_ref': '#/texts/35', 'parent': {'$ref': '#/body'}, 'children': [], 'content_layer': 'body', 'label': 'text', 'prov': [{'page_no': 2, 'bbox': {'l': 60.96, 't': 480.798, 'r': 473.062, 'b': 466.922, 'coord_origin': 'BOTTOMLEFT'}, 'charspan': [0, 208]}]}], 'headings': ['Artikel 6  Erlöschen der Zusatzversicherung'], 'origin': {'mimetype': 'application/pdf', 'binary_hash': 8325773841557957054, 'filename': '2-0071 06.68_DE.pdf'}}}, {'source': WindowsPath('../.data/AVB_HELVETIA/2-0071 06.68_DE.pdf'), 'dl_meta': {'schema_name': 'docling_core.transforms.chunker.DocMeta', 'version': '1.0.0', 'doc_items': [{'self_ref': '#/texts/37', 'parent': {'$ref': '#/body'}, 'children': [], 'content_layer': 'body', 'label': 'text', 'prov': [{'page_no': 2, 'bbox': {'l': 60.24, 't': 433.852, 'r': 472.339, 'b': 411.555, 'coord_origin': 'BOTTOMLEFT'}, 'charspan': [0, 226]}]}], 'headings': ['Artikel 7  Umwandlung und Rückkauf'], 'origin': {'mimetype': 'application/pdf', 'binary_hash': 8325773841557957054, 'filename': '2-0071 06.68_DE.pdf'}}}, {'source': WindowsPath('../.data/AVB_HELVETIA/2-0071 06.68_DE.pdf'), 'dl_meta': {'schema_name': 'docling_core.transforms.chunker.DocMeta', 'version': '1.0.0', 'doc_items': [{'self_ref': '#/texts/39', 'parent': {'$ref': '#/groups/6'}, 'children': [], 'content_layer': 'body', 'label': 'list_item', 'prov': [{'page_no': 2, 'bbox': {'l': 60.24, 't': 378.51, 'r': 472.177, 'b': 356.355, 'coord_origin': 'BOTTOMLEFT'}, 'charspan': [0, 311]}]}, {'self_ref': '#/texts/40', 'parent': {'$ref': '#/groups/6'}, 'children': [], 'content_layer': 'body', 'label': 'list_item', 'prov': [{'page_no': 2, 'bbox': {'l': 59.76, 't': 353.292, 'r': 471.728, 'b': 331.255, 'coord_origin': 'BOTTOMLEFT'}, 'charspan': [0, 312]}]}, {'self_ref': '#/texts/41', 'parent': {'$ref': '#/groups/6'}, 'children': [], 'content_layer': 'body', 'label': 'list_item', 'prov': [{'page_no': 2, 'bbox': {'l': 59.28, 't': 328.213, 'r': 471.475, 'b': 289.10699999999997, 'coord_origin': 'BOTTOMLEFT'}, 'charspan': [0, 468]}]}, {'self_ref': '#/texts/42', 'parent': {'$ref': '#/groups/6'}, 'children': [], 'content_layer': 'body', 'label': 'list_item', 'prov': [{'page_no': 2, 'bbox': {'l': 59.04, 't': 286.0640000000001, 'r': 471.386, 'b': 263.571, 'coord_origin': 'BOTTOMLEFT'}, 'charspan': [0, 320]}]}, {'self_ref': '#/texts/43', 'parent': {'$ref': '#/groups/6'}, 'children': [], 'content_layer': 'body', 'label': 'list_item', 'prov': [{'page_no': 2, 'bbox': {'l': 59.04, 't': 260.54999999999995, 'r': 471.143, 'b': 229.49800000000005, 'coord_origin': 'BOTTOMLEFT'}, 'charspan': [0, 442]}]}, {'self_ref': '#/texts/44', 'parent': {'$ref': '#/groups/6'}, 'children': [], 'content_layer': 'body', 'label': 'list_item', 'prov': [{'page_no': 2, 'bbox': {'l': 58.32, 't': 226.54099999999994, 'r': 470.794, 'b': 170.115, 'coord_origin': 'BOTTOMLEFT'}, 'charspan': [0, 685]}]}], 'headings': ['Artikel  8  Invaliden-Kinderrenten'], 'origin': {'mimetype': 'application/pdf', 'binary_hash': 8325773841557957054, 'filename': '2-0071 06.68_DE.pdf'}}}]\n",
      "\n",
      "\n"
     ]
    }
   ],
   "execution_count": 16
  },
  {
   "cell_type": "markdown",
   "metadata": {},
   "source": [
    "---\n",
    "# Write Data into Milvus"
   ]
  },
  {
   "metadata": {},
   "cell_type": "markdown",
   "source": [
    "## Check if Collection exists, Define Schema\n",
    "\n",
    "Before proceeding, we need to check if the collection already exists in the Milvus database.\n",
    "\n",
    "**Check if Collection Existst:**\n",
    "\n",
    "If the collection already exists, you can drop it using the command provided earlier in this notebook.\n",
    "\n",
    "**Define Collection Schema:**\n",
    "\n",
    "If the collection does not exist, we define the schema for the collection.\n",
    "The embeddings will be stored in vector and the assosiated text chunks in text.\n",
    "\n",
    "watsonx.data **expects** the following fields:**\"vector\"** (index) and **\"text\"**."
   ]
  },
  {
   "metadata": {
    "ExecuteTime": {
     "end_time": "2025-04-29T19:27:59.524474Z",
     "start_time": "2025-04-29T19:27:57.947580Z"
    }
   },
   "cell_type": "code",
   "source": [
    "# Check if collection already exists and create fields\n",
    "if COLLECTION_NAME in utility.list_collections():\n",
    "    collection = Collection(COLLECTION_NAME)\n",
    "    print(f\"Collection '{COLLECTION_NAME}' already exists. Rename or drop the collection first.\")\n",
    "else:\n",
    "    print(f\"Collection '{COLLECTION_NAME}' does not exist. Proceed.\")\n",
    "    id_field = FieldSchema(name=\"id\", dtype=DataType.INT64, is_primary=True, auto_id=True)\n",
    "    vector_field = FieldSchema(name=\"vector\", dtype=DataType.FLOAT_VECTOR, dim=dim)\n",
    "    text_field = FieldSchema(name=\"text\", dtype=DataType.VARCHAR, max_length=65535)\n",
    "    metadata_field = FieldSchema(name=\"metadata\", dtype=DataType.JSON)\n",
    "    page_number = FieldSchema(name=\"page_number\", dtype=DataType.INT64)\n",
    "    file_name = FieldSchema(name=\"file_name\", dtype=DataType.VARCHAR, max_length=2048)\n",
    "    product_name = FieldSchema(name=\"product_name\", dtype=DataType.VARCHAR, max_length=256)\n",
    "    product_year = FieldSchema(name=\"product_year\", dtype=DataType.VARCHAR, max_length=256)\n",
    "    chapter = FieldSchema(name=\"chapter\", dtype=DataType.VARCHAR, max_length=2048)\n",
    "    company_entity = FieldSchema(name=\"company_entity\", dtype=DataType.VARCHAR, max_length=256) #Helvetia, National, Phoenix\n",
    "    schema = CollectionSchema(\n",
    "        fields=[id_field, vector_field, text_field,  metadata_field, page_number, file_name, product_name, product_year, chapter, company_entity],\n",
    "    description=\"Collection for storing text chunks and their embeddings\",\n",
    "    enable_dynamic_field=True)\n",
    "    collection = Collection(name=COLLECTION_NAME, schema=schema)"
   ],
   "outputs": [
    {
     "name": "stdout",
     "output_type": "stream",
     "text": [
      "Collection 'docling_helvetia' does not exist. Proceed.\n"
     ]
    }
   ],
   "execution_count": 18
  },
  {
   "cell_type": "markdown",
   "metadata": {},
   "source": [
    "## Insert the Data, Create Index\n",
    "\n",
    "Now we insert the embeddings and the text into milvus and define the index parameters. \n",
    "\n",
    "Refer to the pymilvus documentation for the index parameters."
   ]
  },
  {
   "cell_type": "code",
   "metadata": {
    "ExecuteTime": {
     "end_time": "2025-04-29T19:28:22.002745Z",
     "start_time": "2025-04-29T19:28:11.273577Z"
    }
   },
   "source": [
    "# Insert .data\n",
    "import json\n",
    "\n",
    "# Convert each metadata dict to a JSON string, letting non-serializable objects be turned into strings.\n",
    "def insert_into_milvus(collection, text_chunks, embeddings, serializable_metadata, page_numbers, file_names, product_names, product_years, chapters, entity):\n",
    "    data_to_insert = []\n",
    "    for i in range(len(text_chunks)):\n",
    "        chunk_data = {\n",
    "            \"vector\": embeddings[i].tolist(),  # Ensure individual vector is a list\n",
    "            \"text\": input_texts[i],\n",
    "            \"metadata\": serializable_metadata[i], # Already serialized JSON-compatible dict\n",
    "            \"page_number\": page_numbers[i],\n",
    "            \"file_name\": file_names[i],\n",
    "            \"product_name\": product_names[i],\n",
    "            \"product_year\": product_years[i],\n",
    "            \"chapter\": chapters[i],\n",
    "            \"company_entity\": entity[i]\n",
    "        }\n",
    "        data_to_insert.append(chunk_data)\n",
    "    collection.insert(data_to_insert)\n",
    "    collection.flush()\n",
    "\n",
    "insert_into_milvus(collection, input_texts, embeddings, serializable_metadata, page_numbers, file_names, product_names, product_years, chapters, entity_names)\n",
    "# Define the index \n",
    "index_params = {\n",
    "    \"metric_type\": \"COSINE\",  # or L2 for example\n",
    "    \"index_type\": \"IVF_FLAT\",\n",
    "    \"params\": {\"nlist\": 1024}\n",
    "}\n",
    "# Create the index for the vector\n",
    "collection.create_index(field_name=\"vector\", index_params=index_params)\n",
    "print(f\"Index created on field 'vector' with params: {index_params}\")"
   ],
   "outputs": [
    {
     "name": "stdout",
     "output_type": "stream",
     "text": [
      "Index created on field 'vector' with params: {'metric_type': 'COSINE', 'index_type': 'IVF_FLAT', 'params': {'nlist': 1024}}\n"
     ]
    }
   ],
   "execution_count": 19
  },
  {
   "cell_type": "markdown",
   "metadata": {},
   "source": [
    "---\n",
    "# Test the Collection"
   ]
  },
  {
   "cell_type": "code",
   "metadata": {
    "ExecuteTime": {
     "end_time": "2025-04-29T19:35:59.026919Z",
     "start_time": "2025-04-29T19:35:54.698411Z"
    }
   },
   "source": [
    "collection.load()\n",
    "user_query = \"Worum geht's im Art. 70?\"\n",
    "model = SentenceTransformer(\"intfloat/multilingual-e5-large\")\n",
    "query_embedding = model.encode(user_query).tolist()\n",
    "search_results = collection.search(\n",
    "    data=[query_embedding],\n",
    "    anns_field=\"vector\",\n",
    "    param={\"metric_type\": \"COSINE\", \"params\": {\"nprobe\": 10}},\n",
    "    limit=5,\n",
    "    output_fields=[\"text\", \"metadata\", \"page_number\", \"file_name\", \"product_name\", \"product_year\", \"chapter\", \"entity\"],\n",
    ")\n",
    "\n",
    "for hits in search_results:\n",
    "    for hit in hits:\n",
    "        print(f\"Chunk content: {hit.entity.get('text')}\")\n",
    "        print(f\"Page Number: {hit.entity.get('page_number')}\")\n",
    "        print(f\"File Name: {hit.entity.get('file_name')}\")\n",
    "        print(f\"Product Name: {hit.entity.get('product_name')}\")\n",
    "        print(f\"Product Year: {hit.entity.get('product_year')}\")\n",
    "        print(f\"Chapter: {hit.entity.get('chapter')}\")\n",
    "        print(f\"Entity: {hit.entity.get('company_entity')}\")\n",
    "        print(f\"Metadata: {hit.entity.get('metadata')}\") # Metadata is already requested\n",
    "        print(f\"Distance: {hit.distance}\")\n",
    "        print(\"---\")"
   ],
   "outputs": [
    {
     "name": "stdout",
     "output_type": "stream",
     "text": [
      "Chunk content: passage: Artikel 6  Erlöschen der Zusatzversicherung\n",
      "a)  wenn  der  Versicherte  an  einem  Krieg  oder  an  kriegsähnlichen  Handlungen  teilnimmt,  ohne  dass  die Schweiz selbst  Krieg  führt  oder  in  kriegsähnliche Handlungen  hineingezogen  ist;\n",
      "Page Number: 2\n",
      "File Name: 2-0071 06.68_DE.pdf\n",
      "Product Name: Helvetia Product X\n",
      "Product Year: 2024\n",
      "Chapter: Artikel 6  Erlöschen der Zusatzversicherung\n",
      "Entity: Helvetia\n",
      "Metadata: {'source': '..\\\\.data\\\\AVB_HELVETIA\\\\2-0071 06.68_DE.pdf', 'dl_meta': {'schema_name': 'docling_core.transforms.chunker.DocMeta', 'version': '1.0.0', 'doc_items': [{'self_ref': '#/texts/33', 'parent': {'$ref': '#/body'}, 'children': [], 'content_layer': 'body', 'label': 'text', 'prov': [{'page_no': 2, 'bbox': {'l': 61.44, 't': 514.886, 'r': 473.664, 'b': 501.051, 'coord_origin': 'BOTTOMLEFT'}, 'charspan': [0, 199]}]}], 'headings': ['Artikel 6  Erlöschen der Zusatzversicherung'], 'origin': {'mimetype': 'application/pdf', 'binary_hash': 8325773841557957054, 'filename': '2-0071 06.68_DE.pdf'}}}\n",
      "Distance: 0.7963582277297974\n",
      "---\n",
      "Chunk content: passage: Artikel 5  Wegfall der Leistungspflicht\n",
      "- 1. Die  Arbeitsunfähigkeit  ist  nicht  versichert,  wenn  sie entstanden ist:\n",
      "- a)  durch versuchte Selbsttötung oder  unzweifelhaft  absichtliche  Selbstverletzung,  es  sei  denn,  der  Anspruchsberechtigte  könne  nachweisen,  dass  die  Tat  in  einem  durch  typische  Geisteskrankheit  verursachten  Zustand  der  Urteilsunfähigkeit  begangen worden ist; b)  durch  Beteiligung an bürgerlichen  Unruhen;\n",
      "- c)  als  Folge  einer  verbrecherischen  Handlung  des Versicherten oder eines durch sie veranlassten Ereignisses.\n",
      "- 2. Führt  die  Schweiz  Krieg,  oder  wird  sie  in  kriegsähnliche  Handlungen  hineingezogen,  so  gelten  sinngemäss die Bestimmungen für den Kriegsfall  in den  «Allgemeinen  Bedingungen  für  Gruppenversicherungen».\n",
      "Page Number: 2\n",
      "File Name: 2-0071 06.68_DE.pdf\n",
      "Product Name: Helvetia Product X\n",
      "Product Year: 2024\n",
      "Chapter: Artikel 5  Wegfall der Leistungspflicht\n",
      "Entity: Helvetia\n",
      "Metadata: {'source': '..\\\\.data\\\\AVB_HELVETIA\\\\2-0071 06.68_DE.pdf', 'dl_meta': {'schema_name': 'docling_core.transforms.chunker.DocMeta', 'version': '1.0.0', 'doc_items': [{'self_ref': '#/texts/27', 'parent': {'$ref': '#/groups/5'}, 'children': [], 'content_layer': 'body', 'label': 'list_item', 'prov': [{'page_no': 2, 'bbox': {'l': 62.4, 't': 638.19, 'r': 333.183, 'b': 632.715, 'coord_origin': 'BOTTOMLEFT'}, 'charspan': [0, 78]}]}, {'self_ref': '#/texts/28', 'parent': {'$ref': '#/groups/5'}, 'children': [], 'content_layer': 'body', 'label': 'list_item', 'prov': [{'page_no': 2, 'bbox': {'l': 70.8, 't': 629.411, 'r': 474.735, 'b': 598.915, 'coord_origin': 'BOTTOMLEFT'}, 'charspan': [0, 329]}]}, {'self_ref': '#/texts/29', 'parent': {'$ref': '#/groups/5'}, 'children': [], 'content_layer': 'body', 'label': 'list_item', 'prov': [{'page_no': 2, 'bbox': {'l': 70.56, 't': 595.505, 'r': 474.504, 'b': 581.955, 'coord_origin': 'BOTTOMLEFT'}, 'charspan': [0, 114]}]}, {'self_ref': '#/texts/30', 'parent': {'$ref': '#/groups/5'}, 'children': [], 'content_layer': 'body', 'label': 'list_item', 'prov': [{'page_no': 2, 'bbox': {'l': 62.4, 't': 578.678, 'r': 474.266, 'b': 556.515, 'coord_origin': 'BOTTOMLEFT'}, 'charspan': [0, 220]}]}], 'headings': ['Artikel 5  Wegfall der Leistungspflicht'], 'origin': {'mimetype': 'application/pdf', 'binary_hash': 8325773841557957054, 'filename': '2-0071 06.68_DE.pdf'}}}\n",
      "Distance: 0.7911882400512695\n",
      "---\n",
      "Chunk content: passage: Artikel 1  Umfang des Anspruches\n",
      "- 1.Auf  die  versicherten  Leistungen  besteht  Anspruch, wenn  der  Versicherte  infolge  von  Krankheit,  Zerfall der geistigen und körperlichen  Kräfte oder  infolge von  Körperverletzung  ganz oder  teilweise  nicht  mehr imstande ist, seinen Beruf oder eine andere seiner  Lebensstellung und seinen  Fähigkeiten angemessene Erwerbstätigkeit auszuüben.\n",
      "- 2. Ist  der  Versicherte  nur  teilweise  arbeitsunfähig,  so  entsprechen  die  Leistungen  dem  Grade  der  Arbeitsunfähigkeit.  Eine Arbeitsunfähigkeit  von weniger  als  25%  begründet  keinen  Anspruch  auf  Leistungen; beträgt  die  Arbeitsunfähigkeit  mindestens 75%,  so  wird die  volle Leistung  gewährt.\n",
      "Page Number: 1\n",
      "File Name: 2-0071 06.68_DE.pdf\n",
      "Product Name: Helvetia Product X\n",
      "Product Year: 2024\n",
      "Chapter: Artikel 1  Umfang des Anspruches\n",
      "Entity: Helvetia\n",
      "Metadata: {'source': '..\\\\.data\\\\AVB_HELVETIA\\\\2-0071 06.68_DE.pdf', 'dl_meta': {'schema_name': 'docling_core.transforms.chunker.DocMeta', 'version': '1.0.0', 'doc_items': [{'self_ref': '#/texts/6', 'parent': {'$ref': '#/groups/1'}, 'children': [], 'content_layer': 'body', 'label': 'list_item', 'prov': [{'page_no': 1, 'bbox': {'l': 120.0, 't': 565.369, 'r': 531.482, 'b': 533.955, 'coord_origin': 'BOTTOMLEFT'}, 'charspan': [0, 355]}]}, {'self_ref': '#/texts/7', 'parent': {'$ref': '#/groups/1'}, 'children': [], 'content_layer': 'body', 'label': 'list_item', 'prov': [{'page_no': 1, 'bbox': {'l': 119.52, 't': 531.238, 'r': 531.41, 'b': 508.515, 'coord_origin': 'BOTTOMLEFT'}, 'charspan': [0, 314]}]}], 'headings': ['Artikel 1  Umfang des Anspruches'], 'origin': {'mimetype': 'application/pdf', 'binary_hash': 8325773841557957054, 'filename': '2-0071 06.68_DE.pdf'}}}\n",
      "Distance: 0.7905659675598145\n",
      "---\n",
      "Chunk content: passage: Artikel 4  Änderung oder Aufhebung der Leistung\n",
      "- -I.Die  Gesellschaft  ist  berechtigt,  auf  ihre  Kosten  den  Grad  der Arbeitsunfähigkeit jederzeit nachzuprüfen; der  Versicherte  hat  sich  den  hiefür  erforderlichen  ärztlichen  Untersuchungen zu unterziehen.\n",
      "- 2. Der  Anspruchsberechtigte  ist  verpflichtet,  eine  merkliche Verbesserung des Grades der Arbeitsfähigkeit unverzüglich  der  Gesellschaft  anzuzeigen.\n",
      "- 3. Wird  eine Änderung  des  Grades  der  Arbeitsfähigkeit  festgestellt, so werden die  Leistungen der  Gesellschaft  mit  Wirkung von  dem Tage  an,  an  dem  die Änderung  eingetreten  ist,  dem  neuen  Grad  der  Arbeitsfähigkeit  angepasst.  Der  Anspruch  auf  Leistungen fällt dahin, wenn die Arbeitsunfähigkeit weniger als 25% beträgt.\n",
      "- 4. Verbessert  sich  der  Grad  der  Arbeitsfähigkeit,  so  sind allfällig  über  den Zeitpunkt  dieser  Verbesserung hinaus  aufgrund  des  bisherigen  Invaliditätsgrades  bezogene  Rententeile  zurückzuzahlen.  Im  Todesfall werden  bereits  fällig  gewesene  und  über  den  Todestag  hinaus  gezahlte  Raten  nicht  zurückgefordert, es sei  denn,  es  liege eine Verletzung  der  in Ziff. 2 oben erwähnten Anzeigepflicht vor.\n",
      "Page Number: 1\n",
      "File Name: 2-0071 06.68_DE.pdf\n",
      "Product Name: Helvetia Product X\n",
      "Product Year: 2024\n",
      "Chapter: Artikel 4  Änderung oder Aufhebung der Leistung\n",
      "Entity: Helvetia\n",
      "Metadata: {'source': '..\\\\.data\\\\AVB_HELVETIA\\\\2-0071 06.68_DE.pdf', 'dl_meta': {'schema_name': 'docling_core.transforms.chunker.DocMeta', 'version': '1.0.0', 'doc_items': [{'self_ref': '#/texts/19', 'parent': {'$ref': '#/groups/4'}, 'children': [], 'content_layer': 'body', 'label': 'list_item', 'prov': [{'page_no': 1, 'bbox': {'l': 119.76, 't': 204.70399999999995, 'r': 530.657, 'b': 190.58100000000002, 'coord_origin': 'BOTTOMLEFT'}, 'charspan': [0, 217]}]}, {'self_ref': '#/texts/20', 'parent': {'$ref': '#/groups/4'}, 'children': [], 'content_layer': 'body', 'label': 'list_item', 'prov': [{'page_no': 1, 'bbox': {'l': 119.52, 't': 187.80999999999995, 'r': 530.717, 'b': 173.53499999999997, 'coord_origin': 'BOTTOMLEFT'}, 'charspan': [0, 155]}]}, {'self_ref': '#/texts/21', 'parent': {'$ref': '#/groups/4'}, 'children': [], 'content_layer': 'body', 'label': 'list_item', 'prov': [{'page_no': 1, 'bbox': {'l': 120.24, 't': 171.04499999999996, 'r': 530.655, 'b': 139.635, 'coord_origin': 'BOTTOMLEFT'}, 'charspan': [0, 343]}]}, {'self_ref': '#/texts/22', 'parent': {'$ref': '#/groups/4'}, 'children': [], 'content_layer': 'body', 'label': 'list_item', 'prov': [{'page_no': 1, 'bbox': {'l': 120.0, 't': 137.51, 'r': 530.701, 'b': 106.61099999999999, 'coord_origin': 'BOTTOMLEFT'}, 'charspan': [0, 429]}]}], 'headings': ['Artikel 4  Änderung oder Aufhebung der Leistung'], 'origin': {'mimetype': 'application/pdf', 'binary_hash': 8325773841557957054, 'filename': '2-0071 06.68_DE.pdf'}}}\n",
      "Distance: 0.7852503657341003\n",
      "---\n",
      "Chunk content: passage: Artikel 6  Erlöschen der Zusatzversicherung\n",
      "b)  wenn die Hauptversicherung ausser  Kraft tritt oder  in  eine  prämienfreie  umgewandelt  wird,  sowie  bei Ablauf  der  Prämienzahlungsdauer.\n",
      "Page Number: 2\n",
      "File Name: 2-0071 06.68_DE.pdf\n",
      "Product Name: Helvetia Product X\n",
      "Product Year: 2024\n",
      "Chapter: Artikel 6  Erlöschen der Zusatzversicherung\n",
      "Entity: Helvetia\n",
      "Metadata: {'source': '..\\\\.data\\\\AVB_HELVETIA\\\\2-0071 06.68_DE.pdf', 'dl_meta': {'schema_name': 'docling_core.transforms.chunker.DocMeta', 'version': '1.0.0', 'doc_items': [{'self_ref': '#/texts/34', 'parent': {'$ref': '#/body'}, 'children': [], 'content_layer': 'body', 'label': 'text', 'prov': [{'page_no': 2, 'bbox': {'l': 61.44, 't': 497.83, 'r': 473.145, 'b': 484.275, 'coord_origin': 'BOTTOMLEFT'}, 'charspan': [0, 146]}]}], 'headings': ['Artikel 6  Erlöschen der Zusatzversicherung'], 'origin': {'mimetype': 'application/pdf', 'binary_hash': 8325773841557957054, 'filename': '2-0071 06.68_DE.pdf'}}}\n",
      "Distance: 0.784593939781189\n",
      "---\n"
     ]
    }
   ],
   "execution_count": 26
  },
  {
   "metadata": {},
   "cell_type": "code",
   "outputs": [],
   "execution_count": null,
   "source": ""
  }
 ],
 "metadata": {
  "kernelspec": {
   "display_name": "watsonx",
   "language": "python",
   "name": "python3"
  },
  "language_info": {
   "codemirror_mode": {
    "name": "ipython",
    "version": 3
   },
   "file_extension": ".py",
   "mimetype": "text/x-python",
   "name": "python",
   "nbconvert_exporter": "python",
   "pygments_lexer": "ipython3",
   "version": "3.13.0"
  }
 },
 "nbformat": 4,
 "nbformat_minor": 2
}
